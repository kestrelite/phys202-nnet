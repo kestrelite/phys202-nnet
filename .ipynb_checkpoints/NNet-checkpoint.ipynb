{
 "cells": [
  {
   "cell_type": "code",
   "execution_count": 1,
   "metadata": {
    "collapsed": true
   },
   "outputs": [],
   "source": [
    "import numpy as np\n",
    "import random, math\n",
    "from sklearn.datasets import load_digits"
   ]
  },
  {
   "cell_type": "code",
   "execution_count": 2,
   "metadata": {
    "collapsed": false
   },
   "outputs": [],
   "source": [
    "# http://neuralnetworksanddeeplearning.com/chap1.html\n",
    "\n",
    "def sigmoid(x):\n",
    "    return 1/(1+np.exp(-x))\n",
    "\n",
    "def sigmoid_deriv(x):\n",
    "    return np.exp(x)/(1+np.exp(x))**2\n",
    "\n",
    "def cost_deriv(outputs, cost):\n",
    "    return outputs-cost\n",
    "\n",
    "def nnet_setup(node_layout):\n",
    "    weights = []\n",
    "    biases = []\n",
    "    for i in range(1, len(node_layout)):\n",
    "        weights.append(np.random.randn(node_layout[i], node_layout[i-1]))\n",
    "        biases.append(np.random.randn(node_layout[i], 1))\n",
    "    for i in range(0, len(biases)):\n",
    "        for j in range(0, len(biases[i])):\n",
    "            biases[i][j] = [0]\n",
    "    return weights, biases\n",
    "\n",
    "def nnet_prop(weights, biases, inputs):\n",
    "    for w, b in zip(weights, biases):\n",
    "        inputs = sigmoid(np.dot(w, inputs) + b)\n",
    "    return inputs"
   ]
  },
  {
   "cell_type": "code",
   "execution_count": 14,
   "metadata": {
    "collapsed": true
   },
   "outputs": [],
   "source": [
    "def split_set(dataset, point):\n",
    "    temp1 = list(zip(dataset.images[:point], dataset.target[:point]))\n",
    "    temp2 = list(zip(dataset.images[point:], dataset.target[point:]))\n",
    "    random.shuffle(temp1)\n",
    "    random.shuffle(temp2)\n",
    "    training_set, training_sols = zip(*temp1)\n",
    "    test_set, test_sols = zip(*temp2)\n",
    "    return list(zip(training_set, training_sols)), list(zip(test_set, test_sols))\n",
    "\n",
    "def split_to_batch(trainset, size):\n",
    "    return [trainset[n*size:(n+1)*size] for n in range(0, math.floor(len(trainset)/size))]\n",
    "\n",
    "def conv_to_col(vec):\n",
    "    return np.rot90([vec.reshape((64))])\n",
    "\n",
    "def create_tgt_vec(pos):\n",
    "    tmp = np.zeros(10)\n",
    "    tmp[pos] = 1\n",
    "    return np.rot90([tmp])"
   ]
  },
  {
   "cell_type": "code",
   "execution_count": 32,
   "metadata": {
    "collapsed": false
   },
   "outputs": [
    {
     "ename": "ValueError",
     "evalue": "shapes (10,1) and (64,15) not aligned: 1 (dim 1) != 64 (dim 0)",
     "output_type": "error",
     "traceback": [
      "\u001b[1;31m---------------------------------------------------------------------------\u001b[0m",
      "\u001b[1;31mValueError\u001b[0m                                Traceback (most recent call last)",
      "\u001b[1;32m<ipython-input-32-d3d1ff6e48fd>\u001b[0m in \u001b[0;36m<module>\u001b[1;34m()\u001b[0m\n\u001b[0;32m     37\u001b[0m     \u001b[1;32mreturn\u001b[0m\u001b[1;33m;\u001b[0m\u001b[1;33m\u001b[0m\u001b[0m\n\u001b[0;32m     38\u001b[0m \u001b[1;33m\u001b[0m\u001b[0m\n\u001b[1;32m---> 39\u001b[1;33m \u001b[0mbackprop\u001b[0m\u001b[1;33m(\u001b[0m\u001b[0mtrain_set\u001b[0m\u001b[1;33m)\u001b[0m\u001b[1;33m;\u001b[0m\u001b[1;33m\u001b[0m\u001b[0m\n\u001b[0m",
      "\u001b[1;32m<ipython-input-32-d3d1ff6e48fd>\u001b[0m in \u001b[0;36mbackprop\u001b[1;34m(train_set)\u001b[0m\n\u001b[0;32m     31\u001b[0m             \u001b[0mpre_sig_vec\u001b[0m \u001b[1;33m=\u001b[0m \u001b[0mpre_sig\u001b[0m\u001b[1;33m[\u001b[0m\u001b[1;33m-\u001b[0m\u001b[0mi\u001b[0m\u001b[1;33m]\u001b[0m\u001b[1;33m\u001b[0m\u001b[0m\n\u001b[0;32m     32\u001b[0m             \u001b[0msig_deriv\u001b[0m \u001b[1;33m=\u001b[0m \u001b[0msigmoid_deriv\u001b[0m\u001b[1;33m(\u001b[0m\u001b[0mpre_sig_vec\u001b[0m\u001b[1;33m)\u001b[0m\u001b[1;33m\u001b[0m\u001b[0m\n\u001b[1;32m---> 33\u001b[1;33m             \u001b[0mdelta\u001b[0m \u001b[1;33m=\u001b[0m \u001b[0mnp\u001b[0m\u001b[1;33m.\u001b[0m\u001b[0mdot\u001b[0m\u001b[1;33m(\u001b[0m\u001b[0mdelta\u001b[0m\u001b[1;33m,\u001b[0m \u001b[0mw\u001b[0m\u001b[1;33m[\u001b[0m\u001b[1;33m-\u001b[0m\u001b[0mi\u001b[0m\u001b[1;33m+\u001b[0m\u001b[1;36m1\u001b[0m\u001b[1;33m]\u001b[0m\u001b[1;33m.\u001b[0m\u001b[0mtranspose\u001b[0m\u001b[1;33m(\u001b[0m\u001b[1;33m)\u001b[0m\u001b[1;33m)\u001b[0m \u001b[1;33m*\u001b[0m \u001b[0msig_deriv\u001b[0m\u001b[1;33m\u001b[0m\u001b[0m\n\u001b[0m\u001b[0;32m     34\u001b[0m             \u001b[0mdel_b\u001b[0m\u001b[1;33m[\u001b[0m\u001b[1;33m-\u001b[0m\u001b[0mi\u001b[0m\u001b[1;33m]\u001b[0m \u001b[1;33m=\u001b[0m \u001b[0mdelta\u001b[0m\u001b[1;33m\u001b[0m\u001b[0m\n\u001b[0;32m     35\u001b[0m             \u001b[0mdel_w\u001b[0m\u001b[1;33m[\u001b[0m\u001b[1;33m-\u001b[0m\u001b[0mi\u001b[0m\u001b[1;33m]\u001b[0m \u001b[1;33m=\u001b[0m \u001b[0mnp\u001b[0m\u001b[1;33m.\u001b[0m\u001b[0mdot\u001b[0m\u001b[1;33m(\u001b[0m\u001b[0mdelta\u001b[0m\u001b[1;33m,\u001b[0m \u001b[0mpost_sig\u001b[0m\u001b[1;33m[\u001b[0m\u001b[1;33m-\u001b[0m\u001b[0mi\u001b[0m\u001b[1;33m-\u001b[0m\u001b[1;36m1\u001b[0m\u001b[1;33m]\u001b[0m\u001b[1;33m.\u001b[0m\u001b[0mtranspose\u001b[0m\u001b[1;33m(\u001b[0m\u001b[1;33m)\u001b[0m\u001b[1;33m)\u001b[0m\u001b[1;33m\u001b[0m\u001b[0m\n",
      "\u001b[1;31mValueError\u001b[0m: shapes (10,1) and (64,15) not aligned: 1 (dim 1) != 64 (dim 0)"
     ]
    }
   ],
   "source": [
    "digits = load_digits()\n",
    "train_set, test_set = split_set(digits, 5)\n",
    "train_set = split_to_batch(train_set, 1)\n",
    "\n",
    "wts, bias = nnet_setup([64, 15, 25, 10])\n",
    "\n",
    "def backprop(train_set):\n",
    "    sum_del_w = [np.zeros(wt.shape) for wt in w]\n",
    "    sum_del_b = [np.zeros(bt.shape) for bt in b]\n",
    "    del_w = [np.zeros(wt.shape) for wt in w]\n",
    "    del_b = [np.zeros(bt.shape) for bt in b]\n",
    "    \n",
    "    set_0 = train_set[0]\n",
    "\n",
    "    pre_sig = []; post_sig = []\n",
    "    for test, sol in set_0:\n",
    "        inp = conv_to_col(test)\n",
    "        outp = create_tgt_vec(sol)\n",
    "        for wt, bt in zip(wts, bias):\n",
    "            #print(np.dot(wt, inp))\n",
    "            inp = np.dot(wt, inp) + bt\n",
    "            pre_sig.append(inp)\n",
    "            post_sig.append(sigmoid(inp))\n",
    "            inp = sigmoid(inp)\n",
    "            \n",
    "        delta = cost_deriv(post_sig[-1], outp) * sigmoid_deriv(pre_sig[-1])\n",
    "        del_b[-1] = delta\n",
    "        del_w[-1] = np.dot(delta, post_sig[-2].transpose())\n",
    "        \n",
    "        for i in range(2, len(w)):\n",
    "            pre_sig_vec = pre_sig[-i]\n",
    "            sig_deriv = sigmoid_deriv(pre_sig_vec)\n",
    "            delta = np.dot(delta, w[-i+1].transpose()) * sig_deriv\n",
    "            del_b[-i] = delta\n",
    "            del_w[-i] = np.dot(delta, post_sig[-i-1].transpose())\n",
    "        \n",
    "    return;\n",
    "\n",
    "backprop(train_set);"
   ]
  }
 ],
 "metadata": {
  "kernelspec": {
   "display_name": "Python 3",
   "language": "python",
   "name": "python3"
  },
  "language_info": {
   "codemirror_mode": {
    "name": "ipython",
    "version": 3
   },
   "file_extension": ".py",
   "mimetype": "text/x-python",
   "name": "python",
   "nbconvert_exporter": "python",
   "pygments_lexer": "ipython3",
   "version": "3.4.0"
  }
 },
 "nbformat": 4,
 "nbformat_minor": 0
}
