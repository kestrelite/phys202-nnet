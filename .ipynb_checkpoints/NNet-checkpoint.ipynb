{
 "cells": [
  {
   "cell_type": "code",
   "execution_count": 1,
   "metadata": {
    "collapsed": false
   },
   "outputs": [
    {
     "name": "stderr",
     "output_type": "stream",
     "text": [
      ":0: FutureWarning: IPython widgets are experimental and may change in the future.\n"
     ]
    }
   ],
   "source": [
    "%matplotlib inline\n",
    "import numpy as np\n",
    "import random, math\n",
    "from sklearn.datasets import load_digits\n",
    "import matplotlib.pyplot as plt\n",
    "from matplotlib.pylab import cm\n",
    "from IPython.html.widgets import interact"
   ]
  },
  {
   "cell_type": "code",
   "execution_count": 2,
   "metadata": {
    "collapsed": false
   },
   "outputs": [],
   "source": [
    "# http://neuralnetworksanddeeplearning.com/chap1.html\n",
    "\n",
    "# Sigmoid and cost function derivatives\n",
    "def sig(x):\n",
    "    return 1.0/(1.0+np.exp(-x))\n",
    "sigmoid = np.vectorize(sig)\n",
    "\n",
    "def sig_deriv(x):\n",
    "    return sig(x)*(1-sig(x))\n",
    "sigmoid_deriv = np.vectorize(sig_deriv)\n",
    "\n",
    "def cost_deriv(outputs, cost):\n",
    "    return outputs-cost\n",
    "\n",
    "# Weights initialization and feedforward\n",
    "def nnet_setup(node_layout):\n",
    "    weights = []\n",
    "    biases = []\n",
    "    for i in range(1, len(node_layout)):\n",
    "        weights.append(np.random.randn(node_layout[i], node_layout[i-1])-0.5)\n",
    "        biases.append(np.random.randn(node_layout[i], 1))\n",
    "    return weights, biases\n",
    "\n",
    "def nnet_prop(weights, biases, inputs):\n",
    "    for w, b in zip(weights, biases):\n",
    "        inputs = sigmoid(np.dot(w, inputs) + b)\n",
    "    return inputs"
   ]
  },
  {
   "cell_type": "code",
   "execution_count": 16,
   "metadata": {
    "collapsed": false
   },
   "outputs": [],
   "source": [
    "# The following functions split data into randomized subsets\n",
    "\n",
    "def split_set(dataset, point):\n",
    "    temp1 = list(zip(dataset.images[:point], dataset.target[:point]))\n",
    "    temp2 = list(zip(dataset.images[point:], dataset.target[point:]))\n",
    "    random.shuffle(temp1)\n",
    "    random.shuffle(temp2)\n",
    "    training_set, training_sols = zip(*temp1)\n",
    "    test_set, test_sols = zip(*temp2)\n",
    "    return list(zip(training_set, training_sols)), list(zip(test_set, test_sols))\n",
    "\n",
    "def split_to_batch(trainset, size):\n",
    "    return [trainset[n*size:(n+1)*size] for n in range(0, math.floor(len(trainset)/size))]\n",
    "\n",
    "def conv_to_col(vec):\n",
    "    return np.rot90([vec.reshape((64))])\n",
    "\n",
    "def create_tgt_vec(pos):\n",
    "    tmp = np.ones(10)*-1\n",
    "    tmp[pos] = 1 #temporary; nominal 1\n",
    "    return np.rot90([tmp])\n",
    "\n",
    "digits = load_digits()\n",
    "train_set, test_set = split_set(digits, 10)\n",
    "train_set = split_to_batch(train_set, 1)"
   ]
  },
  {
   "cell_type": "code",
   "execution_count": 20,
   "metadata": {
    "collapsed": true
   },
   "outputs": [
    {
     "name": "stdout",
     "output_type": "stream",
     "text": [
      "[[ 0.51981043  0.49938199  0.50269545]\n",
      " [ 0.5571393   0.69954905  0.74070146]]\n",
      "[[ 0.53994686  0.53414568  0.54201098]\n",
      " [ 0.57003114  0.71476338  0.75585017]] \n",
      "\n",
      "\n",
      "[[ 0.53994686  0.53414568  0.54201098]\n",
      " [ 0.57003114  0.71476338  0.75585017]]\n",
      "[[ 0.55864627  0.56605229  0.57789221]\n",
      " [ 0.58211769  0.72845477  0.76933031]] \n",
      "\n",
      "\n",
      "[[ 0.55864627  0.56605229  0.57789221]\n",
      " [ 0.58211769  0.72845477  0.76933031]]\n",
      "[[ 0.57588614  0.59492482  0.61010768]\n",
      " [ 0.5934649   0.74081865  0.78137732]] \n",
      "\n",
      "\n",
      "[[ 0.57588614  0.59492482  0.61010768]\n",
      " [ 0.5934649   0.74081865  0.78137732]]\n",
      "[[ 0.59171706  0.62081986  0.63873554]\n",
      " [ 0.60413369  0.75202389  0.79219046]] \n",
      "\n",
      "\n",
      "[[ 0.59171706  0.62081986  0.63873554]\n",
      " [ 0.60413369  0.75202389  0.79219046]]\n",
      "[[ 0.60623266  0.64393564  0.66403765]\n",
      " [ 0.61417978  0.76221559  0.80193773]] \n",
      "\n",
      "\n"
     ]
    }
   ],
   "source": [
    "# http://stackoverflow.com/questions/30491307/why-does-this-backpropagation-implementation-fail\n",
    "\n",
    "# Trains the network using backpropagation\n",
    "def backprop(train_set, wts, bias, eta):\n",
    "    # Learning coeficient is the training rate over the number of elements\n",
    "    learning_coef = eta / len(train_set[0])\n",
    "    \n",
    "    # Iterates over each test batch\n",
    "    for next_set in train_set:\n",
    "        # Aggregates the delta values\n",
    "        sum_del_w = [np.zeros(w.shape) for w in wts]\n",
    "        sum_del_b = [np.zeros(b.shape) for b in bias]\n",
    "        \n",
    "        # Backpropagates each training set\n",
    "        for test, sol in next_set:\n",
    "            del_w = [np.zeros(shape=wt.shape) for wt in wts]\n",
    "            del_b = [np.zeros(shape=bt.shape) for bt in bias]\n",
    "            #next_input = conv_to_col(test)\n",
    "            #outp = create_tgt_vec(sol)\n",
    "            next_input = test\n",
    "            outp = [[1]]\n",
    "            \n",
    "            # Feedforward step\n",
    "            pre_sig = []; post_sig = []\n",
    "            for w, b in zip(wts, bias):\n",
    "                next_input = np.dot(w, next_input) + b\n",
    "                pre_sig.append(next_input)\n",
    "                post_sig.append(sigmoid(next_input))\n",
    "                next_input = sigmoid(next_input)\n",
    "            \n",
    "            # Backpropagation step\n",
    "            delta = cost_deriv(post_sig[-1], outp) * sigmoid_deriv(pre_sig[-1])\n",
    "            del_b[-1] = delta\n",
    "            del_w[-1] = np.dot(delta, post_sig[-2].transpose())\n",
    "            \n",
    "            for i in range(2, len(wts)):\n",
    "                pre_sig_vec = pre_sig[-i]\n",
    "                sig_deriv = sigmoid_deriv(pre_sig_vec)\n",
    "                delta = np.dot(wts[-i+1].transpose(), delta) * sig_deriv\n",
    "                del_b[-i] = delta\n",
    "                del_w[-i] = np.dot(delta, post_sig[-i-1].transpose())\n",
    "                        \n",
    "            sum_del_w = [dw + sdw for dw, sdw in zip(del_w, sum_del_w)]\n",
    "            sum_del_b = [db + sdb for db, sdb in zip(del_b, sum_del_b)]\n",
    "        \n",
    "        # Weights adjustment step\n",
    "        wts = [wt - learning_coef * dw for wt, dw in zip(wts, sum_del_w)]\n",
    "        bias = [bt - learning_coef * db for bt, db in zip(bias, sum_del_b)]\n",
    "    \n",
    "    return wts, bias\n",
    "\n",
    "wts, bias = nnet_setup([2,3,2])\n",
    "for i in range(0, 5):\n",
    "    #print(wts)\n",
    "    print(nnet_prop(wts, bias, [1, 1]))\n",
    "    wts, bias = backprop([[(np.array([1, 1]), [0, 0])]], wts, bias, 0.2);\n",
    "    print(nnet_prop(wts, bias, [1, 1]), \"\\n\\n\")"
   ]
  },
  {
   "cell_type": "code",
   "execution_count": 21,
   "metadata": {
    "collapsed": true
   },
   "outputs": [
    {
     "name": "stdout",
     "output_type": "stream",
     "text": [
      "[[  1.52966065e-04]\n",
      " [  3.44240678e-02]\n",
      " [  2.41531231e-02]\n",
      " [  3.98510265e-02]\n",
      " [  1.34682214e-02]\n",
      " [  2.68861370e-03]\n",
      " [  8.12855392e-05]\n",
      " [  8.07388740e-04]\n",
      " [  2.02381912e-05]\n",
      " [  1.10774687e-03]]\n",
      "(180, 1787) \n",
      "BREAK\n"
     ]
    },
    {
     "ename": "ValueError",
     "evalue": "shapes (15,64) and (8,8) not aligned: 64 (dim 1) != 8 (dim 0)",
     "output_type": "error",
     "traceback": [
      "\u001b[1;31m---------------------------------------------------------------------------\u001b[0m",
      "\u001b[1;31mValueError\u001b[0m                                Traceback (most recent call last)",
      "\u001b[1;32m<ipython-input-21-4f292e28daa0>\u001b[0m in \u001b[0;36m<module>\u001b[1;34m()\u001b[0m\n\u001b[0;32m     22\u001b[0m \u001b[0mprint\u001b[0m\u001b[1;33m(\u001b[0m\u001b[0mcheck_effectiveness\u001b[0m\u001b[1;33m(\u001b[0m\u001b[0mtest_set\u001b[0m\u001b[1;33m,\u001b[0m \u001b[0mwts\u001b[0m\u001b[1;33m,\u001b[0m \u001b[0mbias\u001b[0m\u001b[1;33m)\u001b[0m\u001b[1;33m,\u001b[0m \u001b[1;34m\"\\nBREAK\"\u001b[0m\u001b[1;33m)\u001b[0m\u001b[1;33m\u001b[0m\u001b[0m\n\u001b[0;32m     23\u001b[0m \u001b[1;33m\u001b[0m\u001b[0m\n\u001b[1;32m---> 24\u001b[1;33m \u001b[0mwts\u001b[0m\u001b[1;33m,\u001b[0m \u001b[0mbias\u001b[0m \u001b[1;33m=\u001b[0m \u001b[0mbackprop\u001b[0m\u001b[1;33m(\u001b[0m\u001b[0mtrain_set\u001b[0m\u001b[1;33m,\u001b[0m \u001b[0mwts\u001b[0m\u001b[1;33m,\u001b[0m \u001b[0mbias\u001b[0m\u001b[1;33m,\u001b[0m \u001b[1;36m0.2\u001b[0m\u001b[1;33m)\u001b[0m\u001b[1;33m\u001b[0m\u001b[0m\n\u001b[0m\u001b[0;32m     25\u001b[0m \u001b[1;33m\u001b[0m\u001b[0m\n\u001b[0;32m     26\u001b[0m \u001b[0mprint\u001b[0m\u001b[1;33m(\u001b[0m\u001b[0mnnet_prop\u001b[0m\u001b[1;33m(\u001b[0m\u001b[0mwts\u001b[0m\u001b[1;33m,\u001b[0m \u001b[0mbias\u001b[0m\u001b[1;33m,\u001b[0m \u001b[0minp1\u001b[0m\u001b[1;33m)\u001b[0m\u001b[1;33m)\u001b[0m\u001b[1;33m\u001b[0m\u001b[0m\n",
      "\u001b[1;32m<ipython-input-20-ec11f6cc41ef>\u001b[0m in \u001b[0;36mbackprop\u001b[1;34m(train_set, wts, bias, eta)\u001b[0m\n\u001b[0;32m     24\u001b[0m             \u001b[0mpre_sig\u001b[0m \u001b[1;33m=\u001b[0m \u001b[1;33m[\u001b[0m\u001b[1;33m]\u001b[0m\u001b[1;33m;\u001b[0m \u001b[0mpost_sig\u001b[0m \u001b[1;33m=\u001b[0m \u001b[1;33m[\u001b[0m\u001b[1;33m]\u001b[0m\u001b[1;33m\u001b[0m\u001b[0m\n\u001b[0;32m     25\u001b[0m             \u001b[1;32mfor\u001b[0m \u001b[0mw\u001b[0m\u001b[1;33m,\u001b[0m \u001b[0mb\u001b[0m \u001b[1;32min\u001b[0m \u001b[0mzip\u001b[0m\u001b[1;33m(\u001b[0m\u001b[0mwts\u001b[0m\u001b[1;33m,\u001b[0m \u001b[0mbias\u001b[0m\u001b[1;33m)\u001b[0m\u001b[1;33m:\u001b[0m\u001b[1;33m\u001b[0m\u001b[0m\n\u001b[1;32m---> 26\u001b[1;33m                 \u001b[0mnext_input\u001b[0m \u001b[1;33m=\u001b[0m \u001b[0mnp\u001b[0m\u001b[1;33m.\u001b[0m\u001b[0mdot\u001b[0m\u001b[1;33m(\u001b[0m\u001b[0mw\u001b[0m\u001b[1;33m,\u001b[0m \u001b[0mnext_input\u001b[0m\u001b[1;33m)\u001b[0m \u001b[1;33m+\u001b[0m \u001b[0mb\u001b[0m\u001b[1;33m\u001b[0m\u001b[0m\n\u001b[0m\u001b[0;32m     27\u001b[0m                 \u001b[0mpre_sig\u001b[0m\u001b[1;33m.\u001b[0m\u001b[0mappend\u001b[0m\u001b[1;33m(\u001b[0m\u001b[0mnext_input\u001b[0m\u001b[1;33m)\u001b[0m\u001b[1;33m\u001b[0m\u001b[0m\n\u001b[0;32m     28\u001b[0m                 \u001b[0mpost_sig\u001b[0m\u001b[1;33m.\u001b[0m\u001b[0mappend\u001b[0m\u001b[1;33m(\u001b[0m\u001b[0msigmoid\u001b[0m\u001b[1;33m(\u001b[0m\u001b[0mnext_input\u001b[0m\u001b[1;33m)\u001b[0m\u001b[1;33m)\u001b[0m\u001b[1;33m\u001b[0m\u001b[0m\n",
      "\u001b[1;31mValueError\u001b[0m: shapes (15,64) and (8,8) not aligned: 64 (dim 1) != 8 (dim 0)"
     ]
    }
   ],
   "source": [
    "def eval_output(output):\n",
    "    output = np.squeeze(np.rot90(np.rot90(np.rot90(output))))\n",
    "    ind = output.argmax()\n",
    "    conf = 0.5 #temporary\n",
    "    return ind, conf\n",
    "\n",
    "def check_effectiveness(test_set, wts, bias):\n",
    "    correct = 0\n",
    "    count = 0\n",
    "    for test in test_set:\n",
    "        inp = conv_to_col(test[0])\n",
    "        tgt = test[1]\n",
    "        out, _ = eval_output(nnet_prop(wts, bias, inp))\n",
    "        count += 1\n",
    "        if tgt == out: correct += 1\n",
    "    return correct, count\n",
    "\n",
    "wts, bias = nnet_setup([64, 15, 25, 10])\n",
    "\n",
    "inp1 = conv_to_col(test_set[0][0])\n",
    "print(nnet_prop(wts, bias, inp1))\n",
    "print(check_effectiveness(test_set, wts, bias), \"\\nBREAK\")\n",
    "\n",
    "wts, bias = backprop(train_set, wts, bias, 0.2)\n",
    "\n",
    "print(nnet_prop(wts, bias, inp1))\n",
    "print(check_effectiveness(test_set, wts, bias))"
   ]
  },
  {
   "cell_type": "code",
   "execution_count": null,
   "metadata": {
    "collapsed": true
   },
   "outputs": [],
   "source": []
  }
 ],
 "metadata": {
  "kernelspec": {
   "display_name": "Python 3",
   "language": "python",
   "name": "python3"
  },
  "language_info": {
   "codemirror_mode": {
    "name": "ipython",
    "version": 3
   },
   "file_extension": ".py",
   "mimetype": "text/x-python",
   "name": "python",
   "nbconvert_exporter": "python",
   "pygments_lexer": "ipython3",
   "version": "3.4.0"
  }
 },
 "nbformat": 4,
 "nbformat_minor": 0
}
