{
 "cells": [
  {
   "cell_type": "code",
   "execution_count": 6,
   "metadata": {
    "collapsed": true
   },
   "outputs": [],
   "source": [
    "import numpy as np\n",
    "import random\n",
    "from sklearn.datasets import load_digits"
   ]
  },
  {
   "cell_type": "code",
   "execution_count": 2,
   "metadata": {
    "collapsed": false
   },
   "outputs": [],
   "source": [
    "# http://neuralnetworksanddeeplearning.com/chap1.html\n",
    "\n",
    "eta = 0.01\n",
    "batch_size = 10\n",
    "\n",
    "def nnet_setup(node_layout):\n",
    "    weights = []\n",
    "    biases = []\n",
    "    for i in range(1, len(node_layout)):\n",
    "        weights.append(np.random.randn(node_layout[i], node_layout[i-1]))\n",
    "        biases.append(np.random.randn(node_layout[i], 1))\n",
    "    for i in range(0, len(biases)):\n",
    "        for j in range(0, len(biases[i])):\n",
    "            biases[i][j] = [0]\n",
    "    return weights, biases\n",
    "\n",
    "def sigmoid(x):\n",
    "    return 1/(1+np.exp(-x))\n",
    "\n",
    "def sigmoid_deriv(x):\n",
    "    return np.exp(x)/(1+np.exp(x))**2\n",
    "\n",
    "def nnet_prop(weights, biases, inputs):\n",
    "    for w, b in zip(weights, biases):\n",
    "        inputs = sigmoid(np.dot(w, inputs) + b)\n",
    "    return inputs"
   ]
  },
  {
   "cell_type": "code",
   "execution_count": 12,
   "metadata": {
    "collapsed": true
   },
   "outputs": [],
   "source": [
    "def split_set(dataset, point):\n",
    "    temp1 = list(zip(dataset.images[:point], dataset.target[:point]))\n",
    "    temp2 = list(zip(dataset.images[point:], dataset.target[point:]))\n",
    "    random.shuffle(temp1)\n",
    "    random.shuffle(temp2)\n",
    "    training_set, training_sols = zip(*temp1)\n",
    "    test_set, test_sols = zip(*temp2)\n",
    "    return training_set, training_sols, test_set, test_sols;\n",
    "\n",
    "def conv_to_col(vec):\n",
    "    return np.rot90([vec.reshape((64))])\n",
    "\n",
    "def create_tgt_vec(pos):\n",
    "    tmp = np.zeros(10)\n",
    "    tmp[pos] = 1\n",
    "    return np.rot90([tmp])"
   ]
  },
  {
   "cell_type": "code",
   "execution_count": 13,
   "metadata": {
    "collapsed": false
   },
   "outputs": [
    {
     "data": {
      "text/plain": [
       "array([[ 0.],\n",
       "       [ 0.],\n",
       "       [ 0.],\n",
       "       [ 0.],\n",
       "       [ 1.],\n",
       "       [ 0.],\n",
       "       [ 0.],\n",
       "       [ 0.],\n",
       "       [ 0.],\n",
       "       [ 0.]])"
      ]
     },
     "execution_count": 13,
     "metadata": {},
     "output_type": "execute_result"
    }
   ],
   "source": [
    "digits = load_digits()\n",
    "train_set, train_sol, test_set, test_sol = split_set(digits, 1500)\n",
    "\n",
    "w, b = nnet_setup([64, 15, 25, 10])\n",
    "nnet_prop(w, b, conv_to_col(train_set[0]))"
   ]
  },
  {
   "cell_type": "code",
   "execution_count": null,
   "metadata": {
    "collapsed": true
   },
   "outputs": [],
   "source": []
  }
 ],
 "metadata": {
  "kernelspec": {
   "display_name": "Python 3",
   "language": "python",
   "name": "python3"
  },
  "language_info": {
   "codemirror_mode": {
    "name": "ipython",
    "version": 3
   },
   "file_extension": ".py",
   "mimetype": "text/x-python",
   "name": "python",
   "nbconvert_exporter": "python",
   "pygments_lexer": "ipython3",
   "version": "3.4.0"
  }
 },
 "nbformat": 4,
 "nbformat_minor": 0
}
