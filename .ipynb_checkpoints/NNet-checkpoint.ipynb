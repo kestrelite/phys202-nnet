{
 "cells": [
  {
   "cell_type": "code",
   "execution_count": 117,
   "metadata": {
    "collapsed": false
   },
   "outputs": [],
   "source": [
    "%matplotlib inline\n",
    "import numpy as np\n",
    "import random, math\n",
    "from sklearn.datasets import load_digits\n",
    "import matplotlib.pyplot as plt\n",
    "from matplotlib.pylab import cm\n",
    "from IPython.html.widgets import interact"
   ]
  },
  {
   "cell_type": "code",
   "execution_count": 212,
   "metadata": {
    "collapsed": false
   },
   "outputs": [],
   "source": [
    "# http://neuralnetworksanddeeplearning.com/chap1.html\n",
    "\n",
    "def sig(x):\n",
    "    return 1.0/(1.0+np.exp(-x))\n",
    "sigmoid = np.vectorize(sig)\n",
    "\n",
    "def sig_deriv(x):\n",
    "    return sig(x)*(1-sig(x))\n",
    "sigmoid_deriv = np.vectorize(sig_deriv)\n",
    "\n",
    "def cost_deriv(outputs, cost):\n",
    "    return outputs-cost\n",
    "\n",
    "def nnet_setup(node_layout):\n",
    "    weights = []\n",
    "    biases = []\n",
    "    for i in range(1, len(node_layout)):\n",
    "        weights.append(np.random.randn(node_layout[i], node_layout[i-1])-0.5)\n",
    "        biases.append(np.random.randn(node_layout[i], 1))\n",
    "        #weights.append((np.random.rand(node_layout[i], node_layout[i-1])-0.5)/100.0)\n",
    "        #biases.append(-1.0*np.random.rand(node_layout[i], 1)/100.0)\n",
    "    return weights, biases\n",
    "\n",
    "def nnet_prop(weights, biases, inputs):\n",
    "    for w, b in zip(weights, biases):\n",
    "        inputs = sigmoid(np.dot(w, inputs) + b)\n",
    "    return inputs"
   ]
  },
  {
   "cell_type": "code",
   "execution_count": 213,
   "metadata": {
    "collapsed": false
   },
   "outputs": [],
   "source": [
    "def split_set(dataset, point):\n",
    "    temp1 = list(zip(dataset.images[:point], dataset.target[:point]))\n",
    "    temp2 = list(zip(dataset.images[point:], dataset.target[point:]))\n",
    "    random.shuffle(temp1)\n",
    "    random.shuffle(temp2)\n",
    "    training_set, training_sols = zip(*temp1)\n",
    "    test_set, test_sols = zip(*temp2)\n",
    "    return list(zip(training_set, training_sols)), list(zip(test_set, test_sols))\n",
    "\n",
    "def split_to_batch(trainset, size):\n",
    "    return [trainset[n*size:(n+1)*size] for n in range(0, math.floor(len(trainset)/size))]\n",
    "\n",
    "def conv_to_col(vec):\n",
    "    return np.rot90([vec.reshape((64))])\n",
    "\n",
    "def create_tgt_vec(pos):\n",
    "    tmp = np.zeros(10)\n",
    "    tmp[pos] = 1\n",
    "    return np.rot90([tmp])\n",
    "\n",
    "digits = load_digits()\n",
    "train_set, test_set = split_set(digits, 1500)\n",
    "train_set = split_to_batch(train_set, 50)"
   ]
  },
  {
   "cell_type": "code",
   "execution_count": 214,
   "metadata": {
    "collapsed": false,
    "scrolled": false
   },
   "outputs": [],
   "source": [
    "def backprop(train_set, wts, bias, eta):\n",
    "    learning_coef = eta / len(train_set[0])\n",
    "    \n",
    "    for next_set in train_set:\n",
    "        sum_del_w = [np.zeros(w.shape) for w in wts]\n",
    "        sum_del_b = [np.zeros(b.shape) for b in bias]\n",
    "        \n",
    "        del_w = [np.zeros(wt.shape) for wt in wts]\n",
    "        del_b = [np.zeros(bt.shape) for bt in bias]\n",
    "        pre_sig = []; post_sig = []\n",
    "        for test, sol in next_set:\n",
    "            next_input = conv_to_col(test)\n",
    "            outp = create_tgt_vec(sol)\n",
    "            for w, b in zip(wts, bias):\n",
    "                next_input = np.dot(w, next_input) + b\n",
    "                pre_sig.append(next_input)\n",
    "                post_sig.append(sigmoid(next_input))\n",
    "                next_input = sigmoid(next_input)\n",
    "            \n",
    "            delta = cost_deriv(post_sig[-1], outp) * sigmoid_deriv(pre_sig[-1])\n",
    "            del_b[-1] = delta\n",
    "            del_w[-1] = np.dot(delta, post_sig[-2].transpose())\n",
    "            \n",
    "            for i in range(2, len(wts)):\n",
    "                pre_sig_vec = pre_sig[-i]\n",
    "                sig_deriv = sigmoid_deriv(pre_sig_vec)\n",
    "                delta = np.dot(wts[-i+1].transpose(), delta) * sig_deriv\n",
    "                del_b[-i] = delta\n",
    "                del_w[-i] = np.dot(delta, post_sig[-i-1].transpose())\n",
    "            \n",
    "            sum_del_w = [dw + sdw for dw, sdw in zip(del_w, sum_del_w)]\n",
    "            sum_del_b = [db + sdb for db, sdb in zip(del_b, sum_del_b)]\n",
    "        \n",
    "        wts = [wt - learning_coef * dw for wt, dw in zip(wts, sum_del_w)]\n",
    "        bias = [bt - learning_coef * db for bt, db in zip(bias, sum_del_b)]\n",
    "    \n",
    "    return wts, bias\n",
    "\n",
    "wts, bias = nnet_setup([64, 25, 10])\n",
    "backprop(train_set, wts, bias, 0.1);"
   ]
  },
  {
   "cell_type": "code",
   "execution_count": 215,
   "metadata": {
    "collapsed": false
   },
   "outputs": [
    {
     "name": "stdout",
     "output_type": "stream",
     "text": [
      "[[  3.76427359e-05]\n",
      " [  3.00285097e-04]\n",
      " [  9.59958063e-04]\n",
      " [  3.29781522e-01]\n",
      " [  4.10127341e-04]\n",
      " [  2.64720494e-02]\n",
      " [  6.10517623e-04]\n",
      " [  2.36924422e-04]\n",
      " [  4.34063796e-04]\n",
      " [  2.34207980e-04]]\n",
      "(30, 297) \n",
      "BREAK\n",
      "[[  3.79516026e-05]\n",
      " [  2.87776748e-04]\n",
      " [  9.59685090e-04]\n",
      " [  1.52684269e-01]\n",
      " [  4.04697145e-04]\n",
      " [  2.75537765e-02]\n",
      " [  6.07969941e-04]\n",
      " [  2.45551269e-04]\n",
      " [  4.35394590e-04]\n",
      " [  2.32272324e-04]]\n",
      "(30, 297)\n"
     ]
    }
   ],
   "source": [
    "def eval_output(output):\n",
    "    output = np.squeeze(np.rot90(np.rot90(np.rot90(output))))\n",
    "    ind = output.argmax()\n",
    "    conf = 0.5 #temporary\n",
    "    return ind, conf\n",
    "\n",
    "def check_effectiveness(test_set, wts, bias):\n",
    "    correct = 0\n",
    "    count = 0\n",
    "    for test in test_set:\n",
    "        inp = conv_to_col(test[0])\n",
    "        tgt = test[1]\n",
    "        out, _ = eval_output(nnet_prop(wts, bias, inp))\n",
    "        count += 1\n",
    "        if tgt == out: correct += 1\n",
    "    return correct, count\n",
    "\n",
    "wts, bias = nnet_setup([64, 15, 25, 10])\n",
    "\n",
    "inp1 = conv_to_col(test_set[0][0])\n",
    "print(nnet_prop(wts, bias, inp1))\n",
    "print(check_effectiveness(test_set, wts, bias), \"\\nBREAK\")\n",
    "\n",
    "wts, bias = backprop(train_set, wts, bias, 0.1)\n",
    "\n",
    "print(nnet_prop(wts, bias, inp1))\n",
    "print(check_effectiveness(test_set, wts, bias))"
   ]
  },
  {
   "cell_type": "code",
   "execution_count": null,
   "metadata": {
    "collapsed": true
   },
   "outputs": [],
   "source": []
  }
 ],
 "metadata": {
  "kernelspec": {
   "display_name": "Python 3",
   "language": "python",
   "name": "python3"
  },
  "language_info": {
   "codemirror_mode": {
    "name": "ipython",
    "version": 3
   },
   "file_extension": ".py",
   "mimetype": "text/x-python",
   "name": "python",
   "nbconvert_exporter": "python",
   "pygments_lexer": "ipython3",
   "version": "3.4.0"
  }
 },
 "nbformat": 4,
 "nbformat_minor": 0
}
