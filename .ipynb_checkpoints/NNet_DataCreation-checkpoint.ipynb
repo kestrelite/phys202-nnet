{
 "cells": [
  {
   "cell_type": "code",
   "execution_count": 1,
   "metadata": {
    "collapsed": false
   },
   "outputs": [
    {
     "name": "stderr",
     "output_type": "stream",
     "text": [
      ":0: FutureWarning: IPython widgets are experimental and may change in the future.\n"
     ]
    }
   ],
   "source": [
    "%matplotlib inline\n",
    "import numpy as np\n",
    "import random, math, time, pickle\n",
    "import matplotlib.pyplot as plt\n",
    "from matplotlib.pylab import cm\n",
    "from IPython.html.widgets import interact\n",
    "\n",
    "from nnet_core import *;"
   ]
  },
  {
   "cell_type": "code",
   "execution_count": null,
   "metadata": {
    "collapsed": true
   },
   "outputs": [],
   "source": [
    "# Only run this cell to destroy active data in memory\n",
    "# First, set 'reset' to True to confirm\n",
    "\n",
    "reset = False\n",
    "if reset == False: assert(False)\n",
    "\n",
    "network_qtys_lst = []\n",
    "network_keep_lst = []\n",
    "network_eta_lst = []\n",
    "network_decay_lst = []\n",
    "network_firstlayer_lst = []\n",
    "network_secondlayer_lst = []\n",
    "network_epochs_lst = []\n",
    "network_setsize_lst = []\n",
    "network_batchsize_lst = []\n",
    "network_effectiveness_lst = []"
   ]
  },
  {
   "cell_type": "code",
   "execution_count": null,
   "metadata": {
    "collapsed": false
   },
   "outputs": [
    {
     "name": "stdout",
     "output_type": "stream",
     "text": [
      "Completion: 1%; 14.39 mins left.\n",
      "Completion: 2%; 129.87 mins left.\n",
      "Completion: 3%; 112.79 mins left.\n",
      "Completion: 4%; 97.92 mins left.\n",
      "Completion: 5%; 90.11 mins left.\n",
      "Completion: 6%; 91.13 mins left.\n",
      "Completion: 7%; 78.9 mins left.\n",
      "Completion: 8%; 70.33 mins left.\n",
      "Completion: 9%; 68.07 mins left.\n",
      "Completion: 10%; 67.39 mins left.\n",
      "Completion: 11%; 66.07 mins left.\n",
      "Completion: 12%; 79.27 mins left.\n",
      "Completion: 13%; 90.68 mins left.\n",
      "Completion: 14%; 87.95 mins left.\n",
      "Completion: 15%; 82.43 mins left.\n",
      "Completion: 16%; 77.03 mins left.\n",
      "Completion: 17%; 82.16 mins left.\n",
      "Completion: 18%; 77.1 mins left.\n",
      "Completion: 19%; 80.03 mins left.\n",
      "Completion: 20%; 79.44 mins left.\n",
      "Completion: 21%; 75.0 mins left.\n",
      "Completion: 22%; 76.18 mins left.\n",
      "Completion: 23%; 72.98 mins left.\n",
      "Completion: 24%; 73.89 mins left.\n",
      "Completion: 25%; 72.31 mins left.\n",
      "Completion: 26%; 73.69 mins left.\n",
      "Completion: 27%; 70.83 mins left.\n",
      "Completion: 28%; 69.6 mins left.\n",
      "Completion: 28%; 67.7 mins left.\n",
      "Completion: 30%; 66.05 mins left.\n",
      "Completion: 31%; 63.61 mins left.\n",
      "Completion: 32%; 61.95 mins left.\n",
      "Completion: 33%; 60.39 mins left.\n",
      "Completion: 34%; 59.53 mins left.\n",
      "Completion: 35%; 58.25 mins left.\n",
      "Completion: 36%; 58.21 mins left.\n",
      "Completion: 37%; 59.65 mins left.\n",
      "Completion: 38%; 58.25 mins left.\n",
      "Completion: 39%; 56.34 mins left.\n",
      "Completion: 40%; 54.8 mins left.\n",
      "Completion: 41%; 56.04 mins left.\n",
      "Completion: 42%; 53.91 mins left.\n",
      "Completion: 43%; 54.9 mins left.\n",
      "Completion: 44%; 52.98 mins left.\n",
      "Completion: 45%; 51.67 mins left.\n",
      "Completion: 46%; 49.91 mins left.\n",
      "Completion: 47%; 48.17 mins left.\n",
      "Completion: 48%; 46.68 mins left.\n",
      "Completion: 49%; 45.41 mins left.\n",
      "Completion: 50%; 43.94 mins left.\n",
      "Completion: 51%; 42.46 mins left.\n",
      "Completion: 52%; 41.69 mins left.\n",
      "Completion: 53%; 40.28 mins left.\n",
      "Completion: 54%; 39.47 mins left.\n",
      "Completion: 55%; 38.18 mins left.\n",
      "Encountered an error training last network.\n",
      "1 1 1.3 0.0008 10 0 1 471 3\n",
      "Aborting and restarting iteration.\n",
      "Completion: 56%; 37.18 mins left.\n",
      "Completion: 56%; 36.2 mins left.\n",
      "Completion: 57%; 35.28 mins left.\n",
      "Completion: 59%; 35.03 mins left.\n",
      "Completion: 60%; 34.3 mins left.\n",
      "Completion: 61%; 33.45 mins left.\n",
      "Completion: 62%; 33.16 mins left.\n",
      "Completion: 63%; 32.07 mins left.\n",
      "Completion: 64%; 30.99 mins left.\n",
      "Completion: 65%; 30.54 mins left.\n",
      "Completion: 66%; 29.59 mins left.\n",
      "Completion: 67%; 28.36 mins left.\n",
      "Completion: 68%; 27.99 mins left.\n",
      "Completion: 69%; 26.74 mins left.\n",
      "Completion: 70%; 25.8 mins left.\n",
      "Completion: 71%; 24.62 mins left.\n",
      "Completion: 72%; 23.65 mins left.\n",
      "Completion: 73%; 22.71 mins left.\n",
      "Completion: 74%; 21.93 mins left.\n",
      "Completion: 75%; 21.25 mins left.\n",
      "Completion: 76%; 20.17 mins left.\n",
      "Completion: 77%; 19.69 mins left.\n",
      "Completion: 78%; 18.83 mins left.\n",
      "Completion: 79%; 17.83 mins left.\n",
      "Completion: 80%; 17.13 mins left.\n",
      "Completion: 81%; 16.37 mins left.\n",
      "Completion: 82%; 15.47 mins left.\n",
      "Completion: 83%; 14.68 mins left.\n",
      "Completion: 84%; 13.73 mins left.\n",
      "Completion: 85%; 13.08 mins left.\n",
      "Completion: 86%; 12.08 mins left.\n",
      "Completion: 87%; 11.1 mins left.\n",
      "Completion: 88%; 10.16 mins left.\n",
      "Completion: 89%; 9.32 mins left.\n",
      "Completion: 90%; 8.47 mins left.\n",
      "Completion: 91%; 7.63 mins left.\n",
      "Completion: 92%; 6.77 mins left.\n",
      "Completion: 93%; 5.91 mins left."
     ]
    }
   ],
   "source": [
    "num_to_generate = 100\n",
    "_, test_set = load_data(400, 2, 500)\n",
    "\n",
    "start_time = time.time()\n",
    "time_elapsed_secs = lambda: time.time() - start_time\n",
    "\n",
    "i = 0\n",
    "while i < num_to_generate: \n",
    "    networkQty = random.randint(1, 15);\n",
    "    networkKeep = random.randint(1, networkQty);\n",
    "    networkEta = 0.1 * float(random.randint(5, 15));\n",
    "    networkDecay = 0.0001 * float(random.randint(0, 10));\n",
    "    firstLayer = random.randint(5, 30);\n",
    "    secondLayer = 0;\n",
    "    epochs = random.randint(1, 15);\n",
    "    setSize = random.randint(100, 1000);\n",
    "    batchSize = random.randint(1, 10);\n",
    "    \n",
    "    netw = []\n",
    "    try:\n",
    "        netw = nnet_train_new(networkQty, networkKeep, networkEta, networkDecay, \n",
    "                              firstLayer, secondLayer, epochs, setSize, batchSize, 500)\n",
    "    except: \n",
    "        print(\"Encountered an error training last network.\")\n",
    "        print(networkQty, networkKeep, networkEta, networkDecay, firstLayer, secondLayer, epochs, setSize, batchSize)\n",
    "        print(\"Aborting and restarting iteration.\")\n",
    "        continue\n",
    "    \n",
    "    network_qtys_lst.append(networkQty)\n",
    "    network_keep_lst.append(networkKeep)\n",
    "    network_eta_lst.append(networkEta)\n",
    "    network_decay_lst.append(networkDecay)\n",
    "    network_firstlayer_lst.append(firstLayer)\n",
    "    network_secondlayer_lst.append(secondLayer)\n",
    "    network_epochs_lst.append(epochs)\n",
    "    network_setsize_lst.append(setSize)\n",
    "    network_batchsize_lst.append(batchSize)\n",
    "    network_effectiveness_lst.append(nnet_evaluate_multiple(netw, test_set)[2])\n",
    "\n",
    "    time_remaining = (time_elapsed_secs() / float(i + 1)) * float(num_to_generate - (i + 1))\n",
    "    time_remaining = time_remaining / 60\n",
    "    print(\"Completion: \" + str(int((float(i+1) / float(num_to_generate)) * 100.0)) +\"%; \" \n",
    "          + str(float(int(time_remaining*100))/100.0) + \" mins left.\")\n",
    "    \n",
    "    i = i + 1\n",
    "\n",
    "print(\"All done!\")"
   ]
  },
  {
   "cell_type": "code",
   "execution_count": 13,
   "metadata": {
    "collapsed": false
   },
   "outputs": [
    {
     "name": "stdout",
     "output_type": "stream",
     "text": [
      "{'Learning Epochs': [3, 10, 9, 1, 1, 3, 4, 6, 10], 'Effectiveness': [0.202, 0.65, 0.416, 0.312, 0.264, 0.49, 0.57, 0.796, 0.732], 'First Layer Nodes': [18, 27, 30, 11, 11, 29, 6, 25, 14], 'Net Quantity': [1, 14, 5, 9, 9, 7, 9, 14, 10], 'Second Layer Nodes': [0, 0, 0, 0, 0, 0, 0, 0, 0], 'Net Keep Qty': [1, 1, 1, 8, 2, 5, 6, 12, 10], 'Weight Decay Rate': [0.0004, 0.0009000000000000001, 0.0002, 0.0002, 0.0008, 0.0007, 0.0004, 0.0001, 0.0], 'Learning Rate': [0.8, 1.2000000000000002, 1.0, 0.6000000000000001, 0.7000000000000001, 0.7000000000000001, 0.7000000000000001, 0.6000000000000001, 0.8], 'Training Set Size': [672, 823, 354, 763, 923, 908, 745, 671, 521], 'Training Batch Size': [7, 9, 9, 10, 8, 8, 3, 5, 5]}\n"
     ]
    }
   ],
   "source": [
    "import pickle, os;\n",
    "\n",
    "filename = \"testoutput.json\"\n",
    "\n",
    "output_data = {\"Net Quantity\":network_qtys_lst,\n",
    "              \"Net Keep Qty\":network_keep_lst,\n",
    "              \"Learning Rate\":network_eta_lst, \n",
    "              \"Weight Decay Rate\":network_decay_lst,\n",
    "              \"First Layer Nodes\":network_firstlayer_lst,\n",
    "              \"Second Layer Nodes\":network_secondlayer_lst,\n",
    "              \"Learning Epochs\":network_epochs_lst,\n",
    "              \"Training Set Size\":network_setsize_lst,\n",
    "              \"Training Batch Size\":network_batchsize_lst,\n",
    "              \"Effectiveness\":network_effectiveness_lst}\n",
    "\n",
    "if os.path.exists(filename):\n",
    "    os.remove(filename)\n",
    "\n",
    "file = open(filename, 'ab+')\n",
    "pickle.dump(output_data, file)\n",
    "file.close()\n",
    "\n",
    "file = open(filename, 'rb')\n",
    "tmp = pickle.load(file)\n",
    "print(tmp)"
   ]
  },
  {
   "cell_type": "code",
   "execution_count": 48,
   "metadata": {
    "collapsed": false
   },
   "outputs": [
    {
     "data": {
      "text/plain": [
       "<matplotlib.collections.PathCollection at 0x7feb8b6d8898>"
      ]
     },
     "execution_count": 48,
     "metadata": {},
     "output_type": "execute_result"
    },
    {
     "data": {
      "image/png": "[encoded data removed]",
      "text/plain": [
       "<matplotlib.figure.Figure at 0x7feb8b781dd8>"
      ]
     },
     "metadata": {},
     "output_type": "display_data"
    }
   ],
   "source": [
    "plt.scatter(network_qtys_lst, network_effectiveness_lst)"
   ]
  }
 ],
 "metadata": {
  "kernelspec": {
   "display_name": "Python 3",
   "language": "python",
   "name": "python3"
  },
  "language_info": {
   "codemirror_mode": {
    "name": "ipython",
    "version": 3
   },
   "file_extension": ".py",
   "mimetype": "text/x-python",
   "name": "python",
   "nbconvert_exporter": "python",
   "pygments_lexer": "ipython3",
   "version": "3.4.0"
  }
 },
 "nbformat": 4,
 "nbformat_minor": 0
}
