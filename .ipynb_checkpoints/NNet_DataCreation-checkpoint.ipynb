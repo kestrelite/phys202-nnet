{
 "cells": [
  {
   "cell_type": "code",
   "execution_count": 1,
   "metadata": {
    "collapsed": false
   },
   "outputs": [
    {
     "name": "stderr",
     "output_type": "stream",
     "text": [
      ":0: FutureWarning: IPython widgets are experimental and may change in the future.\n"
     ]
    }
   ],
   "source": [
    "%matplotlib inline\n",
    "import numpy as np\n",
    "import random, math, time, pickle\n",
    "import matplotlib.pyplot as plt\n",
    "from matplotlib.pylab import cm\n",
    "from IPython.html.widgets import interact\n",
    "import pickle, os;\n",
    "\n",
    "from nnet_core import *;"
   ]
  },
  {
   "cell_type": "code",
   "execution_count": null,
   "metadata": {
    "collapsed": true
   },
   "outputs": [],
   "source": [
    "# Only run this cell to destroy active data in memory\n",
    "# First, set 'reset' to True to confirm\n",
    "\n",
    "reset = False\n",
    "if reset == False: assert(False)\n",
    "\n",
    "network_qtys_lst = []\n",
    "network_keep_lst = []\n",
    "network_eta_lst = []\n",
    "network_decay_lst = []\n",
    "network_firstlayer_lst = []\n",
    "network_secondlayer_lst = []\n",
    "network_epochs_lst = []\n",
    "network_setsize_lst = []\n",
    "network_batchsize_lst = []\n",
    "network_effectiveness_lst = []"
   ]
  },
  {
   "cell_type": "code",
   "execution_count": null,
   "metadata": {
    "collapsed": false
   },
   "outputs": [
    {
     "name": "stdout",
     "output_type": "stream",
     "text": [
      "Completion: 0%; 18.29 mins left.\n",
      "Completion: 1%; 95.46 mins left.\n",
      "Completion: 1%; 122.72 mins left.\n",
      "Completion: 2%; 203.71 mins left.\n",
      "Completion: 2%; 242.77 mins left.\n",
      "Completion: 3%; 203.75 mins left.\n",
      "Completion: 3%; 206.46 mins left.\n",
      "Completion: 4%; 186.23 mins left.\n",
      "Completion: 4%; 167.7 mins left.\n",
      "Completion: 5%; 169.52 mins left."
     ]
    }
   ],
   "source": [
    "num_to_generate = 200\n",
    "_, test_set = load_data(400, 2, 500)\n",
    "\n",
    "start_time = time.time()\n",
    "time_elapsed_secs = lambda: time.time() - start_time\n",
    "\n",
    "i = 0\n",
    "while i < num_to_generate: \n",
    "    networkQty = random.randint(1, 15);\n",
    "    networkKeep = random.randint(1, networkQty);\n",
    "    networkEta = 0.1 * float(random.randint(5, 15));\n",
    "    networkDecay = 0.0001 * float(random.randint(0, 10));\n",
    "    firstLayer = random.randint(5, 30);\n",
    "    secondLayer = 0;\n",
    "    epochs = random.randint(1, 15);\n",
    "    setSize = random.randint(100, 1000);\n",
    "    batchSize = random.randint(1, 10);\n",
    "    \n",
    "    netw = []\n",
    "    try:\n",
    "        netw = nnet_train_new(networkQty, networkKeep, networkEta, networkDecay, \n",
    "                              firstLayer, secondLayer, epochs, setSize, batchSize, 500)\n",
    "    except: \n",
    "        print(\"Encountered an error training last network.\")\n",
    "        print(networkQty, networkKeep, networkEta, networkDecay, firstLayer, secondLayer, epochs, setSize, batchSize)\n",
    "        print(\"Aborting and restarting iteration.\")\n",
    "        continue\n",
    "    \n",
    "    network_qtys_lst.append(networkQty)\n",
    "    network_keep_lst.append(networkKeep)\n",
    "    network_eta_lst.append(networkEta)\n",
    "    network_decay_lst.append(networkDecay)\n",
    "    network_firstlayer_lst.append(firstLayer)\n",
    "    network_secondlayer_lst.append(secondLayer)\n",
    "    network_epochs_lst.append(epochs)\n",
    "    network_setsize_lst.append(setSize)\n",
    "    network_batchsize_lst.append(batchSize)\n",
    "    network_effectiveness_lst.append(nnet_evaluate_multiple(netw, test_set)[2])\n",
    "\n",
    "    time_remaining = (time_elapsed_secs() / float(i + 1)) * float(num_to_generate - (i + 1))\n",
    "    time_remaining = time_remaining / 60\n",
    "    print(\"Completion: \" + str(int((float(i+1) / float(num_to_generate)) * 100.0)) +\"%; \" \n",
    "          + str(float(int(time_remaining*100))/100.0) + \" mins left.\")\n",
    "    \n",
    "    i = i + 1\n",
    "\n",
    "print(\"All done!\")"
   ]
  },
  {
   "cell_type": "code",
   "execution_count": 16,
   "metadata": {
    "collapsed": false
   },
   "outputs": [
    {
     "name": "stdout",
     "output_type": "stream",
     "text": [
      "{'Learning Epochs': [1, 10, 6, 5, 8, 8, 15, 10, 13, 10, 5, 12, 9, 8, 12, 2, 15, 5, 7, 7, 2, 13, 4, 15, 6, 12, 11, 13, 14, 9, 15, 4, 8, 4, 12, 14, 14, 11, 10, 3, 9, 2, 9, 8, 14, 13, 3, 15, 8, 8, 2, 6, 8, 14, 13, 8, 15, 8, 11, 14, 8, 9, 10, 5, 14, 9, 10, 15, 8, 11, 1, 13, 7, 14, 11, 12, 7, 6, 4, 12, 6, 11, 8, 6, 14, 1, 2, 13, 8, 12, 11, 5, 4, 6, 8, 3, 6, 5, 6, 11], 'Effectiveness': [0.232, 0.674, 0.704, 0.62, 0.746, 0.75, 0.236, 0.382, 0.528, 0.742, 0.368, 0.804, 0.78, 0.604, 0.608, 0.428, 0.868, 0.086, 0.846, 0.47, 0.35, 0.674, 0.488, 0.66, 0.826, 0.854, 0.284, 0.624, 0.504, 0.582, 0.506, 0.44, 0.7, 0.712, 0.76, 0.6, 0.474, 0.53, 0.526, 0.534, 0.884, 0.31, 0.812, 0.424, 0.592, 0.548, 0.35, 0.41, 0.59, 0.676, 0.432, 0.714, 0.678, 0.628, 0.228, 0.604, 0.844, 0.526, 0.758, 0.602, 0.512, 0.33, 0.666, 0.452, 0.686, 0.742, 0.364, 0.678, 0.204, 0.492, 0.384, 0.502, 0.796, 0.528, 0.758, 0.376, 0.78, 0.82, 0.344, 0.862, 0.766, 0.354, 0.802, 0.256, 0.654, 0.386, 0.328, 0.468, 0.7, 0.814, 0.632, 0.608, 0.792, 0.754, 0.684, 0.55, 0.586, 0.514, 0.684, 0.496], 'First Layer Nodes': [29, 26, 21, 21, 28, 9, 13, 25, 8, 17, 6, 18, 19, 21, 29, 30, 29, 19, 25, 28, 9, 16, 12, 23, 19, 25, 28, 6, 11, 8, 16, 9, 15, 21, 22, 27, 12, 7, 18, 18, 24, 12, 28, 21, 7, 23, 15, 27, 23, 14, 28, 23, 26, 8, 5, 11, 16, 7, 26, 28, 8, 6, 27, 20, 28, 23, 15, 17, 24, 17, 29, 6, 20, 30, 19, 19, 11, 28, 11, 27, 15, 5, 19, 29, 19, 21, 14, 12, 26, 24, 28, 11, 15, 23, 30, 15, 8, 22, 23, 15], 'Net Quantity': [14, 12, 11, 10, 5, 8, 1, 2, 3, 5, 14, 14, 15, 8, 2, 3, 10, 2, 14, 13, 2, 15, 6, 8, 10, 10, 5, 4, 7, 8, 2, 13, 7, 15, 7, 12, 15, 5, 2, 10, 14, 3, 13, 3, 3, 1, 4, 5, 7, 4, 9, 9, 4, 9, 3, 6, 3, 12, 10, 6, 11, 13, 3, 10, 12, 7, 2, 13, 1, 4, 11, 8, 6, 12, 9, 2, 15, 8, 10, 6, 14, 4, 12, 12, 14, 11, 5, 1, 6, 5, 14, 12, 12, 14, 12, 15, 4, 15, 2, 3], 'Second Layer Nodes': [0, 0, 0, 0, 0, 0, 0, 0, 0, 0, 0, 0, 0, 0, 0, 0, 0, 0, 0, 0, 0, 0, 0, 0, 0, 0, 0, 0, 0, 0, 0, 0, 0, 0, 0, 0, 0, 0, 0, 0, 0, 0, 0, 0, 0, 0, 0, 0, 0, 0, 0, 0, 0, 0, 0, 0, 0, 0, 0, 0, 0, 0, 0, 0, 0, 0, 0, 0, 0, 0, 0, 0, 0, 0, 0, 0, 0, 0, 0, 0, 0, 0, 0, 0, 0, 0, 0, 0, 0, 0, 0, 0, 0, 0, 0, 0, 0, 0, 0, 0], 'Net Keep Qty': [1, 1, 5, 5, 1, 7, 1, 1, 3, 4, 4, 2, 6, 2, 1, 1, 2, 2, 7, 6, 1, 15, 3, 3, 10, 8, 1, 4, 6, 6, 1, 9, 5, 7, 6, 3, 1, 5, 2, 1, 14, 1, 2, 1, 2, 1, 2, 3, 3, 3, 6, 2, 4, 7, 1, 2, 3, 9, 2, 1, 2, 1, 3, 3, 6, 6, 2, 1, 1, 1, 5, 8, 6, 4, 8, 2, 7, 3, 4, 6, 5, 1, 6, 1, 2, 6, 4, 1, 2, 2, 9, 4, 4, 8, 2, 1, 2, 7, 2, 1], 'Weight Decay Rate': [0.0002, 0.00030000000000000003, 0.0, 0.0009000000000000001, 0.0004, 0.0009000000000000001, 0.0002, 0.0002, 0.0, 0.0006000000000000001, 0.0005, 0.001, 0.0007, 0.0008, 0.0, 0.001, 0.0009000000000000001, 0.0, 0.0, 0.0007, 0.001, 0.0007, 0.0009000000000000001, 0.001, 0.0004, 0.0002, 0.0007, 0.0007, 0.0005, 0.0005, 0.0, 0.0001, 0.00030000000000000003, 0.0006000000000000001, 0.0001, 0.0009000000000000001, 0.00030000000000000003, 0.0002, 0.0008, 0.00030000000000000003, 0.0, 0.0007, 0.0004, 0.0004, 0.0007, 0.0007, 0.00030000000000000003, 0.0004, 0.0006000000000000001, 0.0006000000000000001, 0.0008, 0.00030000000000000003, 0.0009000000000000001, 0.0005, 0.0004, 0.001, 0.001, 0.0005, 0.00030000000000000003, 0.0009000000000000001, 0.0006000000000000001, 0.0009000000000000001, 0.0, 0.0007, 0.0, 0.0005, 0.0, 0.0009000000000000001, 0.0004, 0.0007, 0.0007, 0.0001, 0.0006000000000000001, 0.0002, 0.0002, 0.00030000000000000003, 0.0006000000000000001, 0.00030000000000000003, 0.0002, 0.0005, 0.0007, 0.0005, 0.001, 0.0006000000000000001, 0.0005, 0.0007, 0.0001, 0.0007, 0.0, 0.0007, 0.0006000000000000001, 0.0006000000000000001, 0.0009000000000000001, 0.0007, 0.0005, 0.00030000000000000003, 0.0007, 0.0007, 0.0006000000000000001, 0.0], 'Learning Rate': [0.5, 1.1, 1.4000000000000001, 1.0, 1.1, 1.5, 0.5, 0.9, 1.2000000000000002, 0.9, 0.5, 1.0, 0.7000000000000001, 1.0, 1.2000000000000002, 1.4000000000000001, 1.0, 0.7000000000000001, 0.7000000000000001, 0.5, 0.9, 0.9, 0.8, 0.6000000000000001, 1.5, 1.1, 0.5, 0.6000000000000001, 1.0, 1.1, 1.4000000000000001, 0.6000000000000001, 0.8, 1.2000000000000002, 1.1, 0.5, 1.3, 0.5, 0.8, 0.7000000000000001, 0.7000000000000001, 1.1, 1.0, 1.2000000000000002, 0.6000000000000001, 1.0, 0.7000000000000001, 0.7000000000000001, 0.7000000000000001, 0.9, 1.4000000000000001, 0.8, 1.2000000000000002, 1.4000000000000001, 1.2000000000000002, 0.8, 1.1, 1.2000000000000002, 1.4000000000000001, 1.2000000000000002, 1.1, 0.6000000000000001, 0.7000000000000001, 0.8, 0.5, 1.5, 1.2000000000000002, 1.1, 0.5, 0.5, 1.1, 1.1, 1.5, 0.7000000000000001, 0.9, 1.2000000000000002, 1.3, 1.3, 1.4000000000000001, 0.5, 0.8, 0.8, 0.9, 1.3, 1.4000000000000001, 0.9, 0.9, 1.3, 1.5, 1.2000000000000002, 0.8, 1.5, 0.7000000000000001, 0.6000000000000001, 1.1, 1.3, 0.9, 1.3, 1.2000000000000002, 0.5], 'Training Set Size': [232, 981, 539, 479, 736, 803, 294, 309, 750, 683, 401, 713, 977, 511, 344, 934, 618, 338, 850, 465, 872, 287, 561, 552, 529, 628, 136, 807, 178, 345, 341, 449, 430, 673, 288, 273, 452, 543, 734, 762, 883, 639, 939, 334, 696, 822, 749, 116, 367, 365, 480, 804, 243, 260, 341, 618, 650, 271, 659, 501, 406, 715, 757, 377, 366, 458, 256, 384, 148, 698, 113, 136, 577, 165, 564, 112, 929, 791, 235, 917, 675, 753, 532, 144, 415, 299, 148, 651, 878, 605, 144, 522, 623, 960, 586, 885, 432, 151, 544, 509], 'Training Batch Size': [2, 8, 6, 8, 2, 8, 4, 4, 6, 4, 9, 2, 8, 8, 4, 7, 2, 9, 3, 10, 8, 8, 8, 8, 1, 5, 5, 6, 8, 2, 7, 10, 3, 10, 1, 5, 10, 6, 9, 2, 3, 7, 5, 8, 1, 5, 7, 10, 8, 5, 8, 6, 1, 6, 10, 3, 1, 9, 9, 10, 4, 10, 8, 8, 6, 7, 10, 1, 7, 10, 1, 4, 5, 5, 6, 9, 6, 2, 9, 2, 2, 4, 3, 9, 9, 2, 3, 3, 8, 1, 3, 10, 1, 7, 6, 5, 4, 5, 2, 4]}\n"
     ]
    }
   ],
   "source": [
    "filename = \"testoutput.json\"\n",
    "\n",
    "output_data = {\"Net Quantity\":network_qtys_lst,\n",
    "              \"Net Keep Qty\":network_keep_lst,\n",
    "              \"Learning Rate\":network_eta_lst, \n",
    "              \"Weight Decay Rate\":network_decay_lst,\n",
    "              \"First Layer Nodes\":network_firstlayer_lst,\n",
    "              \"Second Layer Nodes\":network_secondlayer_lst,\n",
    "              \"Learning Epochs\":network_epochs_lst,\n",
    "              \"Training Set Size\":network_setsize_lst,\n",
    "              \"Training Batch Size\":network_batchsize_lst,\n",
    "              \"Effectiveness\":network_effectiveness_lst}\n",
    "output_data_backup = output_data\n",
    "\n",
    "if os.path.exists(filename):\n",
    "    os.remove(filename)\n",
    "\n",
    "file = open(filename, 'ab+')\n",
    "pickle.dump(output_data, file)\n",
    "file.close()\n",
    "\n",
    "file = open(filename, 'rb')\n",
    "tmp = pickle.load(file)\n",
    "print(tmp)"
   ]
  },
  {
   "cell_type": "code",
   "execution_count": 17,
   "metadata": {
    "collapsed": false
   },
   "outputs": [],
   "source": [
    "netw = nnet_train_new(26, 13, 1.02, 0.000325, \n",
    "                              21, 0, 10, 699, 3, 500)"
   ]
  },
  {
   "cell_type": "code",
   "execution_count": 19,
   "metadata": {
    "collapsed": false
   },
   "outputs": [
    {
     "name": "stdout",
     "output_type": "stream",
     "text": [
      "(437, 500, 0.874)\n"
     ]
    }
   ],
   "source": [
    "print(nnet_evaluate_multiple(netw, test_set))"
   ]
  }
 ],
 "metadata": {
  "kernelspec": {
   "display_name": "Python 3",
   "language": "python",
   "name": "python3"
  },
  "language_info": {
   "codemirror_mode": {
    "name": "ipython",
    "version": 3
   },
   "file_extension": ".py",
   "mimetype": "text/x-python",
   "name": "python",
   "nbconvert_exporter": "python",
   "pygments_lexer": "ipython3",
   "version": "3.4.0"
  }
 },
 "nbformat": 4,
 "nbformat_minor": 0
}
