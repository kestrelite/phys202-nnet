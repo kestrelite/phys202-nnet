{
 "cells": [
  {
   "cell_type": "markdown",
   "metadata": {},
   "source": [
    "# Fundamentals of Neural Networks\n",
    "\n",
    "Neural networks are a method for automatic decision-making and classification, more commonly known as weak AI. The idea developed out of synaptic connections in the brain, which output signals based on the magnitude of the incoming signals. The stronger the incoming signals, the greater the chance the neuron will activate.\n",
    "\n",
    "In neural networks, neurons are represented by nodes, which are grouped into layers. Simple neural networks are split into three parts:\n",
    "\n",
    " - The **input layer**, which accepts inputs from the \"outside world\" - for instance, an image of a digit. \n",
    " - The **hidden layer**, which can really be thought of as a processing layer, where computations happen.\n",
    " - The **output layer**, which returns processed information.\n",
    " \n",
    "![Image courtesy the OpenCV project](http://docs.opencv.org/_images/mlp.png)\n",
    "\n",
    "In this image, courtesy the OpenCV project, there are three input nodes, five hidden layer nodes, and two output nodes. Each node in a successive layer receives values from all of the nodes in the layer before it. Let's create this network now, as a demonstration."
   ]
  },
  {
   "cell_type": "code",
   "execution_count": 15,
   "metadata": {
    "collapsed": false
   },
   "outputs": [],
   "source": [
    "from nnet_core import *\n",
    "from transfer_funcs import linear_transfer, linear_transfer_deriv\n",
    "from matplotlib.pylab import cm\n",
    "from moviepy.video.io.bindings import mplfig_to_npimage\n",
    "import moviepy.editor as mpy\n",
    "\n",
    "# This will start with randomized weights and biases\n",
    "weights, biases = nnet_setup([3, 5, 2], transferp=linear_transfer, transfer_derivp=linear_transfer_deriv)"
   ]
  },
  {
   "cell_type": "markdown",
   "metadata": {},
   "source": [
    "A synapse in the brain can be emulated as a device with a _threshold_ and an _output_. If the inputs to the synapse are greater than the threshold, then the output is triggered. However, unlike the synapses in the brain, which must either output a 1 or 0, neural networks allow for dyanmic input and dyanmic output. To do this, nodes have two values associated with them: a weight $w$ and a bias $b$.\n",
    "\n",
    "In order for a node to transmit a positive value, its input has to exceed its bias. This gives us the formula $x*w-b$ for a single connection. We can then write all incoming connections to a single node as follows:\n",
    "\n",
    "Let $w_{ij}$ be the weight from node $i$ to the node $j$ between two layers, and let $b_j$ be the bias of the node $j$ in the second layer. (Note that biases are specific to the _node_, not the _connection_.) Then, the total information that goes to a single node from the previous layer is: $$\\sum_i x_i * w_{ij} - b_j$$"
   ]
  },
  {
   "cell_type": "markdown",
   "metadata": {},
   "source": [
    "**Neural networks as matrix multiplication**\n",
    "\n",
    "You might notice something in the previous notation: $x_i$ and $b_j$ form column vectors, and $w_{ij}$ can form a matrix. This does hold true; consequently, we can write the computation between layers as such:\n",
    "\n",
    "$$\\left(\\begin{matrix}w_{11} & \\cdots & w_{1i} \\\\ \\vdots & & \\vdots \\\\ w_{j1} & \\cdots & w_{ij} \\end{matrix}\\right) \\left(\\begin{matrix}x_1 \\\\ \\vdots \\\\ x_i \\end{matrix}\\right) - \\left(\\begin{matrix}b_1 \\\\ \\vdots \\\\ b_i \\end{matrix}\\right)$$\n",
    "\n",
    "This makes it very easy to compute, and that is how the following function is implemented:"
   ]
  },
  {
   "cell_type": "code",
   "execution_count": 16,
   "metadata": {
    "collapsed": false
   },
   "outputs": [
    {
     "data": {
      "text/plain": [
       "array([[ 0.93912544],\n",
       "       [-7.63971805]])"
      ]
     },
     "execution_count": 16,
     "metadata": {},
     "output_type": "execute_result"
    }
   ],
   "source": [
    "nnet_prop(weights, biases, np.rot90([[1, 1, 1]]))"
   ]
  },
  {
   "cell_type": "markdown",
   "metadata": {},
   "source": [
    "**Giving it something to learn**\n",
    "\n",
    "As a demonstration, let's say we wanted to teach it to output higher on the first node if the first two numbers are higher than the third, and output higher on the second node if they aren't.\n",
    "\n",
    "First, we need to generate some data!"
   ]
  },
  {
   "cell_type": "code",
   "execution_count": 17,
   "metadata": {
    "collapsed": false
   },
   "outputs": [],
   "source": [
    "from dataset_mgmt import *\n",
    "import random as rand\n",
    "\n",
    "training_data_count = 150\n",
    "\n",
    "training_data = []\n",
    "test_data = []\n",
    "for i in range(0, training_data_count * 2):\n",
    "    inp = [rand.randint(1, 10), rand.randint(1, 10), rand.randint(1, 10)]\n",
    "    if(inp[2] == sorted(inp)[::-1][2]): training_data.append(([inp], 1))\n",
    "    else: training_data.append(([inp], 0))\n",
    "test_data = training_data[training_data_count:]\n",
    "training_data = split_to_batch(training_data[:training_data_count], 10)"
   ]
  },
  {
   "cell_type": "markdown",
   "metadata": {},
   "source": [
    "Why did I use 0 and 1 instead of column vectors? Part of that is a limitation of the way I wrote this library, as I wrote it with digit recognition in mind. They don't have to be, however, the utility functions I have do a handy job of turning those into target vectors:"
   ]
  },
  {
   "cell_type": "code",
   "execution_count": 18,
   "metadata": {
    "collapsed": false
   },
   "outputs": [
    {
     "name": "stdout",
     "output_type": "stream",
     "text": [
      "[[ 0.]\n",
      " [ 1.]] \n",
      "\n",
      "[[ 1.]\n",
      " [ 0.]]\n"
     ]
    }
   ],
   "source": [
    "print(create_tgt_vec(0, length=2), \"\\n\")\n",
    "print(create_tgt_vec(1, length=2))"
   ]
  },
  {
   "cell_type": "markdown",
   "metadata": {},
   "source": [
    "**Stochastic gradient descent and backpropagation**\n",
    "\n",
    "Now it's time to see how the network actually learns something. First, it's helpful to see what it does. The code below makes a copy of the neural network we created earlier, then trains it 50 times against the training data we created.\n",
    "\n",
    "_Note:_ Some networks will train better than others. If you get an uninteresting graph, go up to the top and create a new random network to start with."
   ]
  },
  {
   "cell_type": "code",
   "execution_count": 19,
   "metadata": {
    "collapsed": false
   },
   "outputs": [
    {
     "name": "stdout",
     "output_type": "stream",
     "text": [
      "Starting accuracy: 38.0%\n",
      "Ending accuracy: 79.5%\n"
     ]
    }
   ],
   "source": [
    "# Make a copy for playing with\n",
    "wts, bias = weights, biases\n",
    "print(\"Starting accuracy: \" + str(100 * nnet_evaluate_single(wts, bias, test_data)[2]) + \"%\")\n",
    "\n",
    "iteration = []\n",
    "evaluation = []\n",
    "\n",
    "for i in range(0, 20):\n",
    "    iteration.append(i+1)\n",
    "    evaluation.append(nnet_evaluate_single(wts, bias, test_data)[2] * 100)\n",
    "    wts, bias = nnet_SGD(training_data, wts, bias, 0.0010, outp_length=2)\n",
    "    \n",
    "print(\"Ending accuracy: \" + str(100 * nnet_evaluate_single(wts, bias, test_data)[2]) + \"%\")"
   ]
  },
  {
   "cell_type": "code",
   "execution_count": 20,
   "metadata": {
    "collapsed": false
   },
   "outputs": [
    {
     "data": {
      "image/png": "[encoded data removed]",
      "text/plain": [
       "<matplotlib.figure.Figure at 0x7f7fd8aff710>"
      ]
     },
     "metadata": {},
     "output_type": "display_data"
    }
   ],
   "source": [
    "%matplotlib inline\n",
    "import matplotlib.pyplot as plt\n",
    "\n",
    "plt.plot(iteration, evaluation)\n",
    "plt.ylim([min(evaluation), 100]); plt.xlim([1, max(iteration)])\n",
    "plt.xlabel(\"Training epoch number\")\n",
    "plt.ylabel(\"Percent accuracy\");"
   ]
  },
  {
   "cell_type": "markdown",
   "metadata": {},
   "source": [
    "To understand what's happening, recall that the gradient of a vector always points in the direction of greatest decrease. Neural networks (ab)use this property to minimize the error of the outputs of the network. This is, in truth, the only fundamental principle at work here. We can adjust the parameters of the network to move in the direction that minimizes error. But how fast do we move? \n",
    "\n",
    "To answer that, the network uses a rate of movement, heretofore called the _learning rate_, represented by $\\eta$. Let's call the error a _cost function_ with respect to an input vector $\\vec{x}$. Then, for each $w_{ij}$, we can compute the derivative of the cost: $$\\frac{dC(\\vec{x})}{dw_{ij}}$$\n",
    "\n",
    "This represents how quickly the error changes with respect to the weight. All in all, we're setting up a differential equation. $$w_{ij}' = w_{ij} - \\eta \\frac{dC(\\vec{x})}{dw_{ij}}$$\n",
    "\n",
    "Then, we can do the same thing for biases. What's the end result? A movement like this:\n",
    "\n",
    "![](http://blog.datumbox.com/wp-content/uploads/2013/10/gradient-descent.png)\n",
    "\n",
    "(Courtesy datumbox)\n",
    "\n",
    "However, notice how this network seems to reach a maximum effectiveness? Also notice how the gradients have different minima?\n",
    "\n",
    "This is one of the problems with neural networks. There may be an absolute minimum of the network, but you won't be able to get there with stochastic gradient descent. Instead, we need a different tools to get us to higher accuracy. There are a number of these, which are better saved for a different overview."
   ]
  }
 ],
 "metadata": {
  "kernelspec": {
   "display_name": "Python 3",
   "language": "python",
   "name": "python3"
  },
  "language_info": {
   "codemirror_mode": {
    "name": "ipython",
    "version": 3
   },
   "file_extension": ".py",
   "mimetype": "text/x-python",
   "name": "python",
   "nbconvert_exporter": "python",
   "pygments_lexer": "ipython3",
   "version": "3.4.0"
  }
 },
 "nbformat": 4,
 "nbformat_minor": 0
}
