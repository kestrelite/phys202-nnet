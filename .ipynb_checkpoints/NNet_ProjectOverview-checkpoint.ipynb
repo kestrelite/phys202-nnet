{
 "cells": [
  {
   "cell_type": "markdown",
   "metadata": {},
   "source": [
    "# Neural Networks for Digit Recognition\n",
    "_Noah Sutton-Smolin_\n",
    "\n",
    "Presented is a method for the creation of a neural network to recognize and classify handwritten digits. The digits are assumed to be pre-segmented into an 8x8 grid of 0-16 grayscale values. Success values around 90% were detected. Training occurs in around 10 to 20 minutes. Optimal configuration values for the network were discovered using Monte Carlo methods."
   ]
  },
  {
   "cell_type": "code",
   "execution_count": 6,
   "metadata": {
    "collapsed": false
   },
   "outputs": [
    {
     "ename": "SyntaxError",
     "evalue": "unexpected EOF while parsing (<ipython-input-6-622f30a8b702>, line 11)",
     "output_type": "error",
     "traceback": [
      "\u001b[1;36m  File \u001b[1;32m\"<ipython-input-6-622f30a8b702>\"\u001b[1;36m, line \u001b[1;32m11\u001b[0m\n\u001b[1;33m    \u001b[0m\n\u001b[1;37m    ^\u001b[0m\n\u001b[1;31mSyntaxError\u001b[0m\u001b[1;31m:\u001b[0m unexpected EOF while parsing\n"
     ]
    }
   ],
   "source": [
    "import pickle\n",
    "from nnet_core import *\n",
    "from dataset_mgmt import *\n",
    "\n",
    "generate = False; write = False; read = False;\n",
    "filename = \"trained_network.pickle\"\n",
    "#netw = nnet_train_new(13, 9, 1.12, 0.0003, 24, 0, 11, 880, 3, 500);\n",
    "\n",
    "write = False;\n",
    "if write:\n",
    "    "
   ]
  },
  {
   "cell_type": "code",
   "execution_count": 5,
   "metadata": {
    "collapsed": false
   },
   "outputs": [
    {
     "data": {
      "text/plain": [
       "(444, 500, 0.888)"
      ]
     },
     "execution_count": 5,
     "metadata": {},
     "output_type": "execute_result"
    }
   ],
   "source": [
    "_, test_set = load_data(10, 1000, test_size=500);\n",
    "nnet_evaluate_multiple(netw, test_set)"
   ]
  }
 ],
 "metadata": {
  "kernelspec": {
   "display_name": "Python 3",
   "language": "python",
   "name": "python3"
  },
  "language_info": {
   "codemirror_mode": {
    "name": "ipython",
    "version": 3
   },
   "file_extension": ".py",
   "mimetype": "text/x-python",
   "name": "python",
   "nbconvert_exporter": "python",
   "pygments_lexer": "ipython3",
   "version": "3.4.0"
  }
 },
 "nbformat": 4,
 "nbformat_minor": 0
}
