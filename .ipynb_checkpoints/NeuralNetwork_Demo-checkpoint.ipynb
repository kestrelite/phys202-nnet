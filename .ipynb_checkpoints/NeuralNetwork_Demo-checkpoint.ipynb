{
 "cells": [
  {
   "cell_type": "code",
   "execution_count": 1,
   "metadata": {
    "collapsed": false
   },
   "outputs": [
    {
     "name": "stderr",
     "output_type": "stream",
     "text": [
      ":0: FutureWarning: IPython widgets are experimental and may change in the future.\n"
     ]
    }
   ],
   "source": [
    "import matplotlib.pyplot as plt\n",
    "from matplotlib.pylab import cm\n",
    "from IPython.html.widgets import interact\n",
    "import pickle\n",
    "\n",
    "%matplotlib inline"
   ]
  },
  {
   "cell_type": "code",
   "execution_count": 23,
   "metadata": {
    "collapsed": false
   },
   "outputs": [
    {
     "name": "stdout",
     "output_type": "stream",
     "text": [
      "[14, 10, 14, 9, 7, 5, 9, 9, 1]\n",
      "[12, 10, 1, 6, 5, 1, 8, 2, 1]\n",
      "[0.6000000000000001, 0.8, 1.2000000000000002, 0.7000000000000001, 0.7000000000000001, 1.0, 0.6000000000000001, 0.7000000000000001, 0.8]\n",
      "[0.0001, 0.0, 0.0009000000000000001, 0.0004, 0.0007, 0.0002, 0.0002, 0.0008, 0.0004]\n",
      "[25, 14, 27, 6, 29, 30, 11, 11, 18]\n",
      "[0, 0, 0, 0, 0, 0, 0, 0, 0]\n",
      "[6, 10, 10, 4, 3, 9, 1, 1, 3]\n",
      "[671, 521, 823, 745, 908, 354, 763, 923, 672]\n",
      "[5, 5, 9, 3, 8, 9, 10, 8, 7]\n",
      "[0.796, 0.732, 0.65, 0.57, 0.49, 0.416, 0.312, 0.264, 0.202]\n"
     ]
    }
   ],
   "source": [
    "dataset = pickle.load(open('testoutput.json', 'rb'))\n",
    "\n",
    "data_names = ('Net Quantity', 'Net Keep Qty', 'Learning Rate', 'Weight Decay Rate',  \n",
    "         'First Layer Nodes', 'Second Layer Nodes', 'Learning Epochs', \n",
    "         'Training Set Size', 'Training Batch Size', 'Effectiveness')\n",
    "\n",
    "for name in data_names:\n",
    "    dataset[name] = [x for y,x in sorted(zip(dataset['Effectiveness'], dataset[name]))[::-1]]"
   ]
  },
  {
   "cell_type": "code",
   "execution_count": null,
   "metadata": {
    "collapsed": true
   },
   "outputs": [],
   "source": [
    "def create_plot(dataname):\n",
    "    plt.scatter(dataset[dataname], dataset['Effectiveness'])\n",
    "    plt.gcf().set_size_inches(8, 6)\n",
    "    plt.xlabel(dataname)\n",
    "    plt.ylabel('Effectiveness')\n",
    "    plt.title(dataname + ' vs. Effectiveness')\n",
    "    \n",
    "interact(create_plot, dataname=data_names)"
   ]
  },
  {
   "cell_type": "code",
   "execution_count": null,
   "metadata": {
    "collapsed": true
   },
   "outputs": [],
   "source": [
    "def best_setup(count):\n",
    "    "
   ]
  }
 ],
 "metadata": {
  "kernelspec": {
   "display_name": "Python 3",
   "language": "python",
   "name": "python3"
  },
  "language_info": {
   "codemirror_mode": {
    "name": "ipython",
    "version": 3
   },
   "file_extension": ".py",
   "mimetype": "text/x-python",
   "name": "python",
   "nbconvert_exporter": "python",
   "pygments_lexer": "ipython3",
   "version": "3.4.0"
  }
 },
 "nbformat": 4,
 "nbformat_minor": 0
}
