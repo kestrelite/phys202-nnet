{
 "cells": [
  {
   "cell_type": "markdown",
   "metadata": {},
   "source": [
    "# Averaging Neural Network Output for Improved Accuracy\n",
    "\n",
    "Multiple neural networks can be used to improve output accuracy. By performing a weighted average on the output vectors, it is possible to create a setup wherein multiple networks have found local minima, but together have a higher net accuracy. \n",
    "\n",
    "This occurs, intuitively speaking, because while one network might fall into an inaccuracy, a large number of networks are unlikely to agree on that inaccuracy if trained in disparate ways. That is what the following methods accomplish.\n",
    "\n",
    "The following code pulls an existing pregenerated set of networks out of a pickle."
   ]
  },
  {
   "cell_type": "code",
   "execution_count": 1,
   "metadata": {
    "collapsed": false
   },
   "outputs": [
    {
     "name": "stderr",
     "output_type": "stream",
     "text": [
      ":0: FutureWarning: IPython widgets are experimental and may change in the future.\n"
     ]
    }
   ],
   "source": [
    "%matplotlib inline\n",
    "import pickle, os\n",
    "from nnet_core import *\n",
    "from dataset_mgmt import *\n",
    "import matplotlib.pyplot as plt\n",
    "from IPython.html.widgets import interact\n",
    "\n",
    "generate = False; write = False; read = True;\n",
    "filename = \"25_networks.pickle\"\n",
    "\n",
    "netw = []\n",
    "_, test_set = load_data(10, 1000, test_size=200);\n",
    "if generate: \n",
    "    netw = nnet_train_new(25, 25, 1.12, 0.0003, 24, 0, 11, 880, 3, 250);\n",
    "if read:\n",
    "    file = open(filename, 'rb')\n",
    "    netw = pickle.load(file)\n",
    "    file.close()\n",
    "if write:\n",
    "    if os.path.exists(filename): os.remove(filename)\n",
    "    file = open(filename, 'ab+')\n",
    "    pickle.dump(netw, file)\n",
    "    file.close()"
   ]
  },
  {
   "cell_type": "markdown",
   "metadata": {},
   "source": [
    "The following interactive method allows for a visualization of a network's success rate versus how large the initial pool is. The slider adjusts how many networks are pregenerated, and the $x$-axis represents the number of networks selected from the pool.\n",
    "\n",
    "**Note**: For large $n$, the computation may take a few seconds. ($n!$ distinct calculations to produce the graph)"
   ]
  },
  {
   "cell_type": "code",
   "execution_count": 2,
   "metadata": {
    "collapsed": false
   },
   "outputs": [
    {
     "data": {
      "image/png": "[encoded data removed]",
      "text/plain": [
       "<matplotlib.figure.Figure at 0x7fdbdf327908>"
      ]
     },
     "metadata": {},
     "output_type": "display_data"
    }
   ],
   "source": [
    "def sort(net):\n",
    "    return sorted(net, key=lambda x: x[2])[::-1]\n",
    "\n",
    "def of_n_pick_m(n, m):\n",
    "    return sort(netw[0:n])[0:m]\n",
    "\n",
    "def plot_of_n(n=25):\n",
    "    index = []; eff = []\n",
    "    for m in range(1, n+1):\n",
    "        working_net = of_n_pick_m(n, m);\n",
    "        index.append(m)\n",
    "        eff.append(nnet_evaluate_multiple(working_net, test_set)[2])\n",
    "    plt.plot(index, eff)\n",
    "    plt.xlabel(\"Top M of \" + str(n))\n",
    "    plt.ylabel(\"Success rate\")\n",
    "    plt.title(\"Success rate of the top M of N networks\")\n",
    "    plt.xlim([1, n])\n",
    "    plt.ylim([min(eff), 1])\n",
    "    plt.gcf().set_size_inches(8, 6)\n",
    "\n",
    "interact(plot_of_n, n=(1, 25));"
   ]
  },
  {
   "cell_type": "markdown",
   "metadata": {},
   "source": [
    "The primary result from this study is that there is an approximately logarithmic tendency to increase in output quality with network quantity. This seems to hold true no matter the number of networks in the pool. \n",
    "\n",
    "This is the primary result of this method. When incorporated with the optimal-parameters method, this puts the accuracy at around 95%."
   ]
  },
  {
   "cell_type": "code",
   "execution_count": 3,
   "metadata": {
    "collapsed": false
   },
   "outputs": [
    {
     "name": "stdout",
     "output_type": "stream",
     "text": [
      "Endpoint accuracy: 94.5%\n"
     ]
    }
   ],
   "source": [
    "print(\"Endpoint accuracy: \" + str(nnet_evaluate_multiple(netw, test_set)[2] * 100.0) + \"%\")"
   ]
  }
 ],
 "metadata": {
  "kernelspec": {
   "display_name": "Python 3",
   "language": "python",
   "name": "python3"
  },
  "language_info": {
   "codemirror_mode": {
    "name": "ipython",
    "version": 3
   },
   "file_extension": ".py",
   "mimetype": "text/x-python",
   "name": "python",
   "nbconvert_exporter": "python",
   "pygments_lexer": "ipython3",
   "version": "3.4.0"
  }
 },
 "nbformat": 4,
 "nbformat_minor": 0
}
