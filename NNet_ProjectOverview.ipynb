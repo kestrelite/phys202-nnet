{
 "cells": [
  {
   "cell_type": "markdown",
   "metadata": {},
   "source": [
    "# Neural Networks for Digit Recognition\n",
    "_Noah Sutton-Smolin_\n",
    "\n",
    "Presented is a method for the creation of multiple neural networks to recognize and classify handwritten digits. The digits are assumed to be pre-segmented into an 8x8 grid of 0-16 grayscale values. Success values around 90% were detected. Training occurs in around 10 to 20 minutes. Relatively optimal configuration values for the network were discovered using Monte Carlo methods.\n",
    "\n",
    "The following code loads a pre-trained network (or generates a new one, if you choose `generate = True`).\n",
    "\n",
    "**TODO:**\n",
    "\n",
    " - Include mathematics details in overview\n",
    " - <s>Add weight decay/transfer to intro book</s>\n",
    " - <s>Add Monte Carlo notebook pool plot</s>\n",
    " - <s>Finish Monte Carlo notebook information</s>\n",
    " - Finish data creation notebook information\n",
    " - Bibliography and references"
   ]
  },
  {
   "cell_type": "code",
   "execution_count": 12,
   "metadata": {
    "collapsed": false
   },
   "outputs": [],
   "source": [
    "import pickle, os\n",
    "from nnet_core import *\n",
    "from dataset_mgmt import *\n",
    "\n",
    "generate = False; write = False; read = True;\n",
    "filename = \"trained_network.pickle\"\n",
    "\n",
    "netw = []\n",
    "if generate: \n",
    "    netw = nnet_train_new(13, 9, 1.12, 0.0003, 24, 0, 11, 880, 3, 500);\n",
    "if read:\n",
    "    file = open(filename, 'rb')\n",
    "    netw = pickle.load(file)\n",
    "    file.close()\n",
    "if write:\n",
    "    if os.path.exists(filename): os.remove(filename)\n",
    "    file = open(filename, 'ab+')\n",
    "    pickle.dump(netw, file)\n",
    "    file.close()"
   ]
  },
  {
   "cell_type": "markdown",
   "metadata": {},
   "source": [
    "The following code evaluates the network's effectiveness using test data:"
   ]
  },
  {
   "cell_type": "code",
   "execution_count": 16,
   "metadata": {
    "collapsed": false
   },
   "outputs": [
    {
     "name": "stdout",
     "output_type": "stream",
     "text": [
      "Network success rate: 90.8%\n"
     ]
    }
   ],
   "source": [
    "_, test_set = load_data(10, 1000, test_size=500);\n",
    "eff = nnet_evaluate_multiple(netw, test_set)[2]\n",
    "print(\"Network success rate: \" + str(float(int(eff * 10000)) / 100.0) + \"%\")"
   ]
  },
  {
   "cell_type": "markdown",
   "metadata": {},
   "source": [
    "Feed-forward neural networks are a method of artificial intelligence which are a relatively recent advancement in computer science. While the method has been around for a number of decades, it has only recently become feasible as a method for training automatic classification systems. \n",
    "\n",
    "The network uses a stochastic gradient descent/backpropagation algorithm to adjust the weights in the direction that minimizes error. This can, however, occasionally lead to local minima. For more information on this phenomenon, view [this notebook](NNet_Introduction.ipynb) on the fundamentals of neural networks.\n",
    "\n",
    "To counter this phenomenon, two methods were used: first, a weak weight decay was applied, which causes weights with minimal training to lose their significance over time, and discourages entrapment in a local minima. Second, multiple networks were trained and averaged. For details on this, view [this notebook](NNet_Averaging.ipynb) on how multiple networks can be used to improve output. \n",
    "\n",
    "Finally, in order to improve training times, a Monte Carlo search was executed over the neural network's parameter space to find optimal parameters. This method cut the computation time in half in comparison to manual tuning, and resulted in equal or better output. For more information on how this search was executed, view [this notebook](NNet_MonteCarlo.ipynb).\n",
    "\n",
    "Lastly, for the gritty details on how Monte Carlo search data was created, view [this notebook](NNet_DataCreation.ipynb)."
   ]
  }
 ],
 "metadata": {
  "kernelspec": {
   "display_name": "Python 3",
   "language": "python",
   "name": "python3"
  },
  "language_info": {
   "codemirror_mode": {
    "name": "ipython",
    "version": 3
   },
   "file_extension": ".py",
   "mimetype": "text/x-python",
   "name": "python",
   "nbconvert_exporter": "python",
   "pygments_lexer": "ipython3",
   "version": "3.4.0"
  }
 },
 "nbformat": 4,
 "nbformat_minor": 0
}
