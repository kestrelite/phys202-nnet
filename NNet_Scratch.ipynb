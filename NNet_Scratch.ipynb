{
 "cells": [
  {
   "cell_type": "code",
   "execution_count": 2,
   "metadata": {
    "collapsed": false
   },
   "outputs": [
    {
     "name": "stderr",
     "output_type": "stream",
     "text": [
      ":0: FutureWarning: IPython widgets are experimental and may change in the future.\n"
     ]
    }
   ],
   "source": [
    "%matplotlib inline\n",
    "import numpy as np\n",
    "import random, math\n",
    "from sklearn.datasets import load_digits\n",
    "import matplotlib.pyplot as plt\n",
    "from matplotlib.pylab import cm\n",
    "from IPython.html.widgets import interact\n",
    "from datetime import datetime;\n",
    "\n",
    "from transfer_funcs import *;\n",
    "from dataset_mgmt import *;\n",
    "from nnet_core import *;"
   ]
  },
  {
   "cell_type": "code",
   "execution_count": 3,
   "metadata": {
    "collapsed": false
   },
   "outputs": [
    {
     "name": "stdout",
     "output_type": "stream",
     "text": [
      "Current accuracy:  (561, 1397, 0.4015748031496063) \n",
      "\n"
     ]
    }
   ],
   "source": [
    "nettmp = train_new(1, 1, 1.3, 0.0003, 30, 20, 2, 400, 2)"
   ]
  },
  {
   "cell_type": "code",
   "execution_count": 4,
   "metadata": {
    "collapsed": false
   },
   "outputs": [
    {
     "name": "stdout",
     "output_type": "stream",
     "text": [
      "1 loops, best of 3: 400 ms per loop\n"
     ]
    }
   ],
   "source": [
    "train, test = load_data(400, 2)\n",
    "%timeit nnet_evaluate_multiple(nettmp, test)"
   ]
  },
  {
   "cell_type": "code",
   "execution_count": 2,
   "metadata": {
    "collapsed": false,
    "scrolled": false
   },
   "outputs": [
    {
     "ename": "NameError",
     "evalue": "name 'trainingSetSize' is not defined",
     "output_type": "error",
     "traceback": [
      "\u001b[1;31m---------------------------------------------------------------------------\u001b[0m",
      "\u001b[1;31mNameError\u001b[0m                                 Traceback (most recent call last)",
      "\u001b[1;32m<ipython-input-2-1a3ea7d2fba1>\u001b[0m in \u001b[0;36m<module>\u001b[1;34m()\u001b[0m\n\u001b[0;32m     21\u001b[0m \u001b[1;31m#trainingBatchSize = 2\u001b[0m\u001b[1;33m\u001b[0m\u001b[1;33m\u001b[0m\u001b[0m\n\u001b[0;32m     22\u001b[0m \u001b[1;33m\u001b[0m\u001b[0m\n\u001b[1;32m---> 23\u001b[1;33m \u001b[0mtrain_set\u001b[0m\u001b[1;33m,\u001b[0m \u001b[0mtest_set\u001b[0m \u001b[1;33m=\u001b[0m \u001b[0msplit_set\u001b[0m\u001b[1;33m(\u001b[0m\u001b[0mdigits\u001b[0m\u001b[1;33m,\u001b[0m \u001b[0mtrainingSetSize\u001b[0m\u001b[1;33m)\u001b[0m\u001b[1;33m\u001b[0m\u001b[0m\n\u001b[0m\u001b[0;32m     24\u001b[0m def train_new(networkQuantity, networkKeepQuantity, networkEta,\n\u001b[0;32m     25\u001b[0m              \u001b[0mnetworkDecayRate\u001b[0m\u001b[1;33m,\u001b[0m \u001b[0mfirstLayer\u001b[0m\u001b[1;33m,\u001b[0m \u001b[0msecondLayer\u001b[0m\u001b[1;33m,\u001b[0m\u001b[1;33m\u001b[0m\u001b[0m\n",
      "\u001b[1;31mNameError\u001b[0m: name 'trainingSetSize' is not defined"
     ]
    }
   ],
   "source": [
    "\n",
    "\n",
    "#networkQuantity = 25\n",
    "#networkKeepQuantity = 15\n",
    "#networkEta = 1.3\n",
    "#networkDecayRate = 0.0003\n",
    "#firstLayer = 30\n",
    "#secondLayer = 20\n",
    "#trainingEpochs = 15\n",
    "#trainingSetSize = 1000\n",
    "#trainingBatchSize = 2\n",
    "\n",
    "#networkQuantity = 10\n",
    "#networkKeepQuantity = 10\n",
    "#networkEta = 0.8\n",
    "#networkDecayRate = 0.0003\n",
    "#firstLayer = 30\n",
    "#secondLayer = 20\n",
    "#trainingEpochs = 200\n",
    "#trainingSetSize = 500\n",
    "#trainingBatchSize = 2\n",
    "\n",
    "train_set, test_set = split_set(digits, trainingSetSize)\n",
    "def train_new(networkQuantity, networkKeepQuantity, networkEta,\n",
    "             networkDecayRate, firstLayer, secondLayer,\n",
    "             trainingEpochs, trainingSetSize, trainingBatchSize):\n",
    "    networks = []\n",
    "    for i in range(0, networkQuantity):\n",
    "        if secondLayer == 0 or secondLayer == None: wts, bias = nnet_setup([64, firstLayer, 10])\n",
    "        else: wts, bias = nnet_setup([64, firstLayer, secondLayer, 10])\n",
    "\n",
    "        wts_maxA = wts; bias_maxA = bias; effectivenessA = evaluate(wts, bias, test_set)[2]\n",
    "        for j in range(0, trainingIters):\n",
    "            random.shuffle(train_set)\n",
    "            train_set_split = split_to_batch(train_set, trainingBatchSize)\n",
    "            wts, bias = SGD(train_set_split, wts, bias, networkEta, decay_rate=networkDecayRate)\n",
    "\n",
    "            new_effect = evaluate(wts, bias, test_set)[2]\n",
    "            if new_effect > effectivenessA:\n",
    "                effectivenessA = new_effect\n",
    "                wts_maxA = wts; bias_maxA = bias\n",
    "\n",
    "        #if len(networks) > 0: print(\"Low: \" + str(networks[0][2]), \"New: \" + str(effectivenessA))\n",
    "        if len(networks) < networkKeepQuantity:\n",
    "            #print(\"Adding new network to unfinished list\")\n",
    "            networks.append((wts_maxA, bias_maxA, effectivenessA))\n",
    "        else: \n",
    "            if networks[0][2] < effectivenessA:\n",
    "                print(\"Dumping old network for new one\")\n",
    "                networks[0] = (wts_maxA, bias_maxA, effectivenessA)\n",
    "        networks = sorted(networks, key=lambda x: x[2])\n",
    "        print(\"Current accuracy: \", evaluateN(networks, test_set), \"\\n\")\n",
    "    return networks\n",
    "    \n",
    "    print(\"Final average eval:\")\n",
    "    print(evaluateN(networks, test_set))\n",
    "    print(\"Done\")\n",
    "\n",
    "#networkQuantity = 10\n",
    "#networkKeepQuantity = 10\n",
    "#networkEta = 0.8\n",
    "#networkDecayRate = 0.0003\n",
    "#firstLayer = 30\n",
    "#secondLayer = 20\n",
    "#trainingEpochs = 200\n",
    "#trainingSetSize = 500\n",
    "#trainingBatchSize = 2\n",
    "\n",
    "def netkey_encode(nQ, nKQ, nE, nD, fL, sL, E, sS, bS):\n",
    "    return \"Q\"+str(nQ)+\"K\"+str(nKQ)+\"E\"+str(nE)+\"D\"+str(nD)+\"F\"+str(fL)+\"S\"+str(sL)+\"E\"+str(E)+\"Z\"+str(sS)+\"B\"+str(bS)\n",
    "\n",
    "train_new(1, 1, 3.0, 0.0002, 30, 20, 30, 1000, 10)\n",
    "\n",
    "assert(False)\n",
    "nets = train_new(1, 1, 1.3, 0.0003, 5, 5, 2, 100, 10)\n",
    "print(datetime.now().time())\n",
    "assert(False)\n",
    "\n",
    "p = {}\n",
    "for i in range(10, 26, 3):\n",
    "    netw = train_new(i, 1, 1.3, 0.0003, 5, 5, 2, 200, 10)\n",
    "    eff = evaluateN(netw, test_set)[2]\n",
    "    print(eff)\n",
    "    p[netkey_encode(i, 1, 1.3, 0.0003, 5, 5, 2, 200, 10)] = eff\n",
    "print(p)\n",
    "assert(False)\n",
    "\n",
    "nets = train_new(3, 2, 1.3, 0.0003, 30, 20, 15, 1000, 2)\n",
    "print(evaluateN(nets, test_set))\n",
    "\n",
    "print(datetime.now().time())"
   ]
  }
 ],
 "metadata": {
  "kernelspec": {
   "display_name": "Python 3",
   "language": "python",
   "name": "python3"
  }
 },
 "nbformat": 4,
 "nbformat_minor": 0
}
