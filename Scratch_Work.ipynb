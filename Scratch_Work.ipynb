{
 "cells": [
  {
   "cell_type": "code",
   "execution_count": 22,
   "metadata": {
    "collapsed": true
   },
   "outputs": [],
   "source": [
    "%matplotlib inline\n",
    "import pickle, os\n",
    "from nnet_core import *\n",
    "from dataset_mgmt import *\n",
    "import matplotlib.pyplot as plt\n",
    "\n",
    "generate = False; write = False; read = True;\n",
    "filename = \"trained_network.pickle\"\n",
    "\n",
    "netw = []\n",
    "_, test_set = load_data(10, 1000, test_size=200);\n",
    "if generate: \n",
    "    netw = nnet_train_new(13, 9, 1.12, 0.0003, 24, 0, 11, 880, 3, 500);\n",
    "if read:\n",
    "    file = open(filename, 'rb')\n",
    "    netw = pickle.load(file)\n",
    "    file.close()\n",
    "if write:\n",
    "    if os.path.exists(filename): os.remove(filename)\n",
    "    file = open(filename, 'ab+')\n",
    "    pickle.dump(netw, file)\n",
    "    file.close()"
   ]
  },
  {
   "cell_type": "code",
   "execution_count": 25,
   "metadata": {
    "collapsed": false
   },
   "outputs": [
    {
     "name": "stdout",
     "output_type": "stream",
     "text": [
      "0.662\n",
      "0.66\n",
      "0.654\n"
     ]
    },
    {
     "data": {
      "image/png": "[encoded data removed]",
      "text/plain": [
       "<matplotlib.figure.Figure at 0x7fb6c381d940>"
      ]
     },
     "metadata": {},
     "output_type": "display_data"
    }
   ],
   "source": [
    "def sort(net):\n",
    "    return sorted(net, key=lambda x: x[2])[::-1]\n",
    "\n",
    "def of_n_pick_m(n, m):\n",
    "    return sort(netw[0:n])[0:m]\n",
    "\n",
    "def plot_of_n(n):\n",
    "    index = []; eff = []\n",
    "    for m in range(1, n):\n",
    "        working_net = of_n_pick_m(n, m);\n",
    "        index.append(m)\n",
    "        eff.append(nnet_evaluate_multiple(working_net, test_set)[2])\n",
    "    plt.plot(index, eff)\n",
    "    \n",
    "    \n",
    "plot_of_n(9)\n",
    "    \n",
    "npx = of_n_pick_m(5, 3)\n",
    "for i in range(0, len(npx)):\n",
    "    print(npx[i][2])"
   ]
  }
 ],
 "metadata": {
  "kernelspec": {
   "display_name": "Python 3",
   "language": "python",
   "name": "python3"
  },
  "language_info": {
   "codemirror_mode": {
    "name": "ipython",
    "version": 3
   },
   "file_extension": ".py",
   "mimetype": "text/x-python",
   "name": "python",
   "nbconvert_exporter": "python",
   "pygments_lexer": "ipython3",
   "version": "3.4.0"
  }
 },
 "nbformat": 4,
 "nbformat_minor": 0
}
